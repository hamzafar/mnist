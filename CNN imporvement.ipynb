{
 "cells": [
  {
   "cell_type": "markdown",
   "metadata": {},
   "source": [
    "## Readind data and convert to ndarray"
   ]
  },
  {
   "cell_type": "code",
   "execution_count": 1,
   "metadata": {
    "collapsed": true,
    "scrolled": true
   },
   "outputs": [],
   "source": [
    "import pandas as pd\n",
    "import numpy as np"
   ]
  },
  {
   "cell_type": "code",
   "execution_count": 2,
   "metadata": {
    "collapsed": true,
    "scrolled": true
   },
   "outputs": [],
   "source": [
    "df_train = pd.read_csv('F:/mnist/data/train.csv')"
   ]
  },
  {
   "cell_type": "code",
   "execution_count": 3,
   "metadata": {
    "collapsed": false,
    "scrolled": true
   },
   "outputs": [
    {
     "name": "stdout",
     "output_type": "stream",
     "text": [
      "42000\n"
     ]
    },
    {
     "data": {
      "text/html": [
       "<div>\n",
       "<table border=\"1\" class=\"dataframe\">\n",
       "  <thead>\n",
       "    <tr style=\"text-align: right;\">\n",
       "      <th></th>\n",
       "      <th>label</th>\n",
       "      <th>pixel0</th>\n",
       "      <th>pixel1</th>\n",
       "      <th>pixel2</th>\n",
       "      <th>pixel3</th>\n",
       "      <th>pixel4</th>\n",
       "      <th>pixel5</th>\n",
       "      <th>pixel6</th>\n",
       "      <th>pixel7</th>\n",
       "      <th>pixel8</th>\n",
       "      <th>...</th>\n",
       "      <th>pixel774</th>\n",
       "      <th>pixel775</th>\n",
       "      <th>pixel776</th>\n",
       "      <th>pixel777</th>\n",
       "      <th>pixel778</th>\n",
       "      <th>pixel779</th>\n",
       "      <th>pixel780</th>\n",
       "      <th>pixel781</th>\n",
       "      <th>pixel782</th>\n",
       "      <th>pixel783</th>\n",
       "    </tr>\n",
       "  </thead>\n",
       "  <tbody>\n",
       "    <tr>\n",
       "      <th>0</th>\n",
       "      <td>1</td>\n",
       "      <td>0</td>\n",
       "      <td>0</td>\n",
       "      <td>0</td>\n",
       "      <td>0</td>\n",
       "      <td>0</td>\n",
       "      <td>0</td>\n",
       "      <td>0</td>\n",
       "      <td>0</td>\n",
       "      <td>0</td>\n",
       "      <td>...</td>\n",
       "      <td>0</td>\n",
       "      <td>0</td>\n",
       "      <td>0</td>\n",
       "      <td>0</td>\n",
       "      <td>0</td>\n",
       "      <td>0</td>\n",
       "      <td>0</td>\n",
       "      <td>0</td>\n",
       "      <td>0</td>\n",
       "      <td>0</td>\n",
       "    </tr>\n",
       "    <tr>\n",
       "      <th>1</th>\n",
       "      <td>0</td>\n",
       "      <td>0</td>\n",
       "      <td>0</td>\n",
       "      <td>0</td>\n",
       "      <td>0</td>\n",
       "      <td>0</td>\n",
       "      <td>0</td>\n",
       "      <td>0</td>\n",
       "      <td>0</td>\n",
       "      <td>0</td>\n",
       "      <td>...</td>\n",
       "      <td>0</td>\n",
       "      <td>0</td>\n",
       "      <td>0</td>\n",
       "      <td>0</td>\n",
       "      <td>0</td>\n",
       "      <td>0</td>\n",
       "      <td>0</td>\n",
       "      <td>0</td>\n",
       "      <td>0</td>\n",
       "      <td>0</td>\n",
       "    </tr>\n",
       "    <tr>\n",
       "      <th>2</th>\n",
       "      <td>1</td>\n",
       "      <td>0</td>\n",
       "      <td>0</td>\n",
       "      <td>0</td>\n",
       "      <td>0</td>\n",
       "      <td>0</td>\n",
       "      <td>0</td>\n",
       "      <td>0</td>\n",
       "      <td>0</td>\n",
       "      <td>0</td>\n",
       "      <td>...</td>\n",
       "      <td>0</td>\n",
       "      <td>0</td>\n",
       "      <td>0</td>\n",
       "      <td>0</td>\n",
       "      <td>0</td>\n",
       "      <td>0</td>\n",
       "      <td>0</td>\n",
       "      <td>0</td>\n",
       "      <td>0</td>\n",
       "      <td>0</td>\n",
       "    </tr>\n",
       "    <tr>\n",
       "      <th>3</th>\n",
       "      <td>4</td>\n",
       "      <td>0</td>\n",
       "      <td>0</td>\n",
       "      <td>0</td>\n",
       "      <td>0</td>\n",
       "      <td>0</td>\n",
       "      <td>0</td>\n",
       "      <td>0</td>\n",
       "      <td>0</td>\n",
       "      <td>0</td>\n",
       "      <td>...</td>\n",
       "      <td>0</td>\n",
       "      <td>0</td>\n",
       "      <td>0</td>\n",
       "      <td>0</td>\n",
       "      <td>0</td>\n",
       "      <td>0</td>\n",
       "      <td>0</td>\n",
       "      <td>0</td>\n",
       "      <td>0</td>\n",
       "      <td>0</td>\n",
       "    </tr>\n",
       "    <tr>\n",
       "      <th>4</th>\n",
       "      <td>0</td>\n",
       "      <td>0</td>\n",
       "      <td>0</td>\n",
       "      <td>0</td>\n",
       "      <td>0</td>\n",
       "      <td>0</td>\n",
       "      <td>0</td>\n",
       "      <td>0</td>\n",
       "      <td>0</td>\n",
       "      <td>0</td>\n",
       "      <td>...</td>\n",
       "      <td>0</td>\n",
       "      <td>0</td>\n",
       "      <td>0</td>\n",
       "      <td>0</td>\n",
       "      <td>0</td>\n",
       "      <td>0</td>\n",
       "      <td>0</td>\n",
       "      <td>0</td>\n",
       "      <td>0</td>\n",
       "      <td>0</td>\n",
       "    </tr>\n",
       "  </tbody>\n",
       "</table>\n",
       "<p>5 rows × 785 columns</p>\n",
       "</div>"
      ],
      "text/plain": [
       "   label  pixel0  pixel1  pixel2  pixel3  pixel4  pixel5  pixel6  pixel7  \\\n",
       "0      1       0       0       0       0       0       0       0       0   \n",
       "1      0       0       0       0       0       0       0       0       0   \n",
       "2      1       0       0       0       0       0       0       0       0   \n",
       "3      4       0       0       0       0       0       0       0       0   \n",
       "4      0       0       0       0       0       0       0       0       0   \n",
       "\n",
       "   pixel8    ...     pixel774  pixel775  pixel776  pixel777  pixel778  \\\n",
       "0       0    ...            0         0         0         0         0   \n",
       "1       0    ...            0         0         0         0         0   \n",
       "2       0    ...            0         0         0         0         0   \n",
       "3       0    ...            0         0         0         0         0   \n",
       "4       0    ...            0         0         0         0         0   \n",
       "\n",
       "   pixel779  pixel780  pixel781  pixel782  pixel783  \n",
       "0         0         0         0         0         0  \n",
       "1         0         0         0         0         0  \n",
       "2         0         0         0         0         0  \n",
       "3         0         0         0         0         0  \n",
       "4         0         0         0         0         0  \n",
       "\n",
       "[5 rows x 785 columns]"
      ]
     },
     "execution_count": 3,
     "metadata": {},
     "output_type": "execute_result"
    }
   ],
   "source": [
    "tmp_df = df_train\n",
    "print(len(tmp_df))\n",
    "tmp_df.head()"
   ]
  },
  {
   "cell_type": "code",
   "execution_count": 4,
   "metadata": {
    "collapsed": false,
    "scrolled": true
   },
   "outputs": [],
   "source": [
    "x_train = np.array(tmp_df.ix[:,1:785])\n",
    "y_train = np.array(tmp_df.ix[:,0])"
   ]
  },
  {
   "cell_type": "code",
   "execution_count": 5,
   "metadata": {
    "collapsed": false,
    "scrolled": true
   },
   "outputs": [
    {
     "name": "stderr",
     "output_type": "stream",
     "text": [
      "Using TensorFlow backend.\n"
     ]
    }
   ],
   "source": [
    "import keras"
   ]
  },
  {
   "cell_type": "code",
   "execution_count": 6,
   "metadata": {
    "collapsed": true,
    "scrolled": true
   },
   "outputs": [],
   "source": [
    "y_labels = keras.utils.to_categorical(y_train, num_classes=10)"
   ]
  },
  {
   "cell_type": "markdown",
   "metadata": {},
   "source": [
    "## Call the sequential model"
   ]
  },
  {
   "cell_type": "code",
   "execution_count": 7,
   "metadata": {
    "collapsed": false,
    "scrolled": true
   },
   "outputs": [],
   "source": [
    "from keras.models import Sequential"
   ]
  },
  {
   "cell_type": "code",
   "execution_count": 8,
   "metadata": {
    "collapsed": true,
    "scrolled": true
   },
   "outputs": [],
   "source": [
    "model = Sequential()"
   ]
  },
  {
   "cell_type": "markdown",
   "metadata": {},
   "source": [
    "## Stacking layers\n",
    "\n",
    "The layers can be stacked using *add* function"
   ]
  },
  {
   "cell_type": "code",
   "execution_count": 9,
   "metadata": {
    "collapsed": true,
    "scrolled": true
   },
   "outputs": [],
   "source": [
    "# call cnn layers\n",
    "from keras.layers import Dense, Activation"
   ]
  },
  {
   "cell_type": "code",
   "execution_count": 10,
   "metadata": {
    "collapsed": false,
    "scrolled": true
   },
   "outputs": [],
   "source": [
    "model.add(Dense(units=10, input_dim=784))\n",
    "model.add(Activation('relu'))\n",
    "model.add(Dense(units=10))\n",
    "\n",
    "model.add(Activation('softmax'))"
   ]
  },
  {
   "cell_type": "code",
   "execution_count": 11,
   "metadata": {
    "collapsed": true,
    "scrolled": true
   },
   "outputs": [],
   "source": [
    "model.compile(loss='categorical_crossentropy',\n",
    "              optimizer='rmsprop',\n",
    "              metrics=['accuracy'])"
   ]
  },
  {
   "cell_type": "code",
   "execution_count": 15,
   "metadata": {
    "collapsed": false,
    "scrolled": true
   },
   "outputs": [
    {
     "name": "stdout",
     "output_type": "stream",
     "text": [
      "Train on 33600 samples, validate on 8400 samples\n",
      "Epoch 1/30\n",
      "33600/33600 [==============================] - 2s - loss: 11.2801 - acc: 0.2998 - val_loss: 11.3387 - val_acc: 0.2961\n",
      "Epoch 2/30\n",
      "33600/33600 [==============================] - 2s - loss: 11.2838 - acc: 0.2994 - val_loss: 11.3564 - val_acc: 0.2950\n",
      "Epoch 3/30\n",
      "33600/33600 [==============================] - 2s - loss: 11.2853 - acc: 0.2994 - val_loss: 11.3754 - val_acc: 0.2936\n",
      "Epoch 4/30\n",
      "33600/33600 [==============================] - 2s - loss: 11.2867 - acc: 0.2994 - val_loss: 11.3980 - val_acc: 0.2925\n",
      "Epoch 5/30\n",
      "33600/33600 [==============================] - 2s - loss: 11.2725 - acc: 0.3003 - val_loss: 11.3272 - val_acc: 0.2969\n",
      "Epoch 6/30\n",
      "33600/33600 [==============================] - 2s - loss: 11.2814 - acc: 0.2997 - val_loss: 11.3281 - val_acc: 0.2968\n",
      "Epoch 7/30\n",
      "33600/33600 [==============================] - 2s - loss: 11.2726 - acc: 0.3004 - val_loss: 11.3533 - val_acc: 0.2952\n",
      "Epoch 8/30\n",
      "33600/33600 [==============================] - 2s - loss: 11.2677 - acc: 0.3007 - val_loss: 11.3447 - val_acc: 0.2961\n",
      "Epoch 9/30\n",
      "33600/33600 [==============================] - 2s - loss: 11.2732 - acc: 0.3002 - val_loss: 11.3225 - val_acc: 0.2973\n",
      "Epoch 10/30\n",
      "33600/33600 [==============================] - 2s - loss: 11.2644 - acc: 0.3008 - val_loss: 11.3466 - val_acc: 0.2952\n",
      "Epoch 11/30\n",
      "33600/33600 [==============================] - 2s - loss: 11.2653 - acc: 0.3008 - val_loss: 11.3469 - val_acc: 0.2957\n",
      "Epoch 12/30\n",
      "33600/33600 [==============================] - 2s - loss: 11.2672 - acc: 0.3007 - val_loss: 11.3257 - val_acc: 0.2969\n",
      "Epoch 13/30\n",
      "33600/33600 [==============================] - 2s - loss: 11.2525 - acc: 0.3016 - val_loss: 11.3299 - val_acc: 0.2967\n",
      "Epoch 14/30\n",
      "33600/33600 [==============================] - 2s - loss: 11.2554 - acc: 0.3014 - val_loss: 11.3258 - val_acc: 0.2970\n",
      "Epoch 15/30\n",
      "33600/33600 [==============================] - 2s - loss: 11.2484 - acc: 0.3019 - val_loss: 11.4079 - val_acc: 0.2915\n",
      "Epoch 16/30\n",
      "33600/33600 [==============================] - 3s - loss: 11.2614 - acc: 0.3009 - val_loss: 11.3375 - val_acc: 0.2961\n",
      "Epoch 17/30\n",
      "33600/33600 [==============================] - 2s - loss: 11.2718 - acc: 0.3005 - val_loss: 11.3286 - val_acc: 0.2970\n",
      "Epoch 18/30\n",
      "33600/33600 [==============================] - 2s - loss: 11.2625 - acc: 0.3010 - val_loss: 11.3263 - val_acc: 0.2970\n",
      "Epoch 19/30\n",
      "33600/33600 [==============================] - 2s - loss: 11.2504 - acc: 0.3017 - val_loss: 11.3180 - val_acc: 0.2975\n",
      "Epoch 20/30\n",
      "33600/33600 [==============================] - 2s - loss: 11.2553 - acc: 0.3015 - val_loss: 11.3609 - val_acc: 0.2948\n",
      "Epoch 21/30\n",
      "33600/33600 [==============================] - 2s - loss: 11.2525 - acc: 0.3016 - val_loss: 11.3384 - val_acc: 0.2963\n",
      "Epoch 22/30\n",
      "33600/33600 [==============================] - 2s - loss: 11.2510 - acc: 0.3017 - val_loss: 11.3116 - val_acc: 0.2980\n",
      "Epoch 23/30\n",
      "33600/33600 [==============================] - 2s - loss: 11.2413 - acc: 0.3025 - val_loss: 11.3331 - val_acc: 0.2967\n",
      "Epoch 24/30\n",
      "33600/33600 [==============================] - 2s - loss: 11.2665 - acc: 0.3008 - val_loss: 11.3135 - val_acc: 0.2980\n",
      "Epoch 25/30\n",
      "33600/33600 [==============================] - 3s - loss: 11.2380 - acc: 0.3025 - val_loss: 11.3435 - val_acc: 0.2960\n",
      "Epoch 26/30\n",
      "33600/33600 [==============================] - 2s - loss: 11.2442 - acc: 0.3021 - val_loss: 11.3269 - val_acc: 0.2968\n",
      "Epoch 27/30\n",
      "33600/33600 [==============================] - 2s - loss: 11.2422 - acc: 0.3023 - val_loss: 11.3081 - val_acc: 0.2981\n",
      "Epoch 28/30\n",
      "33600/33600 [==============================] - 2s - loss: 11.2516 - acc: 0.3016 - val_loss: 11.3035 - val_acc: 0.2982\n",
      "Epoch 29/30\n",
      "33600/33600 [==============================] - 3s - loss: 11.2372 - acc: 0.3026 - val_loss: 11.3239 - val_acc: 0.2970\n",
      "Epoch 30/30\n",
      "33600/33600 [==============================] - 2s - loss: 11.2428 - acc: 0.3022 - val_loss: 11.3035 - val_acc: 0.2986\n"
     ]
    },
    {
     "data": {
      "text/plain": [
       "<keras.callbacks.History at 0x1a77565b588>"
      ]
     },
     "execution_count": 15,
     "metadata": {},
     "output_type": "execute_result"
    }
   ],
   "source": [
    "# learn dl model\n",
    "model.fit(x_train, y_labels, epochs=30, batch_size=32, validation_split=0.2)"
   ]
  },
  {
   "cell_type": "code",
   "execution_count": 13,
   "metadata": {
    "collapsed": false,
    "scrolled": true
   },
   "outputs": [],
   "source": [
    "from keras.utils import plot_model\n",
    "# plot_model(model, to_file='F:/mnist/data/model.png')"
   ]
  },
  {
   "cell_type": "code",
   "execution_count": null,
   "metadata": {
    "collapsed": false,
    "scrolled": true
   },
   "outputs": [],
   "source": []
  }
 ],
 "metadata": {
  "anaconda-cloud": {},
  "kernelspec": {
   "display_name": "Python [conda root]",
   "language": "python",
   "name": "conda-root-py"
  },
  "language_info": {
   "codemirror_mode": {
    "name": "ipython",
    "version": 3
   },
   "file_extension": ".py",
   "mimetype": "text/x-python",
   "name": "python",
   "nbconvert_exporter": "python",
   "pygments_lexer": "ipython3",
   "version": "3.5.2"
  }
 },
 "nbformat": 4,
 "nbformat_minor": 1
}
