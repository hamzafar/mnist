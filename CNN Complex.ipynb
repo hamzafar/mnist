{
 "cells": [
  {
   "cell_type": "markdown",
   "metadata": {},
   "source": [
    "## Readind data and convert to ndarray"
   ]
  },
  {
   "cell_type": "code",
   "execution_count": 1,
   "metadata": {
    "collapsed": true,
    "scrolled": false
   },
   "outputs": [],
   "source": [
    "import pandas as pd\n",
    "import numpy as np"
   ]
  },
  {
   "cell_type": "code",
   "execution_count": 2,
   "metadata": {
    "collapsed": true,
    "scrolled": true
   },
   "outputs": [],
   "source": [
    "np.random.seed(10)"
   ]
  },
  {
   "cell_type": "code",
   "execution_count": 3,
   "metadata": {
    "collapsed": true,
    "scrolled": false
   },
   "outputs": [],
   "source": [
    "df_train = pd.read_csv('F:/mnist/data/train.csv')"
   ]
  },
  {
   "cell_type": "code",
   "execution_count": 4,
   "metadata": {
    "collapsed": false,
    "scrolled": false
   },
   "outputs": [
    {
     "name": "stdout",
     "output_type": "stream",
     "text": [
      "42000\n"
     ]
    },
    {
     "data": {
      "text/html": [
       "<div>\n",
       "<table border=\"1\" class=\"dataframe\">\n",
       "  <thead>\n",
       "    <tr style=\"text-align: right;\">\n",
       "      <th></th>\n",
       "      <th>label</th>\n",
       "      <th>pixel0</th>\n",
       "      <th>pixel1</th>\n",
       "      <th>pixel2</th>\n",
       "      <th>pixel3</th>\n",
       "      <th>pixel4</th>\n",
       "      <th>pixel5</th>\n",
       "      <th>pixel6</th>\n",
       "      <th>pixel7</th>\n",
       "      <th>pixel8</th>\n",
       "      <th>...</th>\n",
       "      <th>pixel774</th>\n",
       "      <th>pixel775</th>\n",
       "      <th>pixel776</th>\n",
       "      <th>pixel777</th>\n",
       "      <th>pixel778</th>\n",
       "      <th>pixel779</th>\n",
       "      <th>pixel780</th>\n",
       "      <th>pixel781</th>\n",
       "      <th>pixel782</th>\n",
       "      <th>pixel783</th>\n",
       "    </tr>\n",
       "  </thead>\n",
       "  <tbody>\n",
       "    <tr>\n",
       "      <th>0</th>\n",
       "      <td>1</td>\n",
       "      <td>0</td>\n",
       "      <td>0</td>\n",
       "      <td>0</td>\n",
       "      <td>0</td>\n",
       "      <td>0</td>\n",
       "      <td>0</td>\n",
       "      <td>0</td>\n",
       "      <td>0</td>\n",
       "      <td>0</td>\n",
       "      <td>...</td>\n",
       "      <td>0</td>\n",
       "      <td>0</td>\n",
       "      <td>0</td>\n",
       "      <td>0</td>\n",
       "      <td>0</td>\n",
       "      <td>0</td>\n",
       "      <td>0</td>\n",
       "      <td>0</td>\n",
       "      <td>0</td>\n",
       "      <td>0</td>\n",
       "    </tr>\n",
       "    <tr>\n",
       "      <th>1</th>\n",
       "      <td>0</td>\n",
       "      <td>0</td>\n",
       "      <td>0</td>\n",
       "      <td>0</td>\n",
       "      <td>0</td>\n",
       "      <td>0</td>\n",
       "      <td>0</td>\n",
       "      <td>0</td>\n",
       "      <td>0</td>\n",
       "      <td>0</td>\n",
       "      <td>...</td>\n",
       "      <td>0</td>\n",
       "      <td>0</td>\n",
       "      <td>0</td>\n",
       "      <td>0</td>\n",
       "      <td>0</td>\n",
       "      <td>0</td>\n",
       "      <td>0</td>\n",
       "      <td>0</td>\n",
       "      <td>0</td>\n",
       "      <td>0</td>\n",
       "    </tr>\n",
       "    <tr>\n",
       "      <th>2</th>\n",
       "      <td>1</td>\n",
       "      <td>0</td>\n",
       "      <td>0</td>\n",
       "      <td>0</td>\n",
       "      <td>0</td>\n",
       "      <td>0</td>\n",
       "      <td>0</td>\n",
       "      <td>0</td>\n",
       "      <td>0</td>\n",
       "      <td>0</td>\n",
       "      <td>...</td>\n",
       "      <td>0</td>\n",
       "      <td>0</td>\n",
       "      <td>0</td>\n",
       "      <td>0</td>\n",
       "      <td>0</td>\n",
       "      <td>0</td>\n",
       "      <td>0</td>\n",
       "      <td>0</td>\n",
       "      <td>0</td>\n",
       "      <td>0</td>\n",
       "    </tr>\n",
       "    <tr>\n",
       "      <th>3</th>\n",
       "      <td>4</td>\n",
       "      <td>0</td>\n",
       "      <td>0</td>\n",
       "      <td>0</td>\n",
       "      <td>0</td>\n",
       "      <td>0</td>\n",
       "      <td>0</td>\n",
       "      <td>0</td>\n",
       "      <td>0</td>\n",
       "      <td>0</td>\n",
       "      <td>...</td>\n",
       "      <td>0</td>\n",
       "      <td>0</td>\n",
       "      <td>0</td>\n",
       "      <td>0</td>\n",
       "      <td>0</td>\n",
       "      <td>0</td>\n",
       "      <td>0</td>\n",
       "      <td>0</td>\n",
       "      <td>0</td>\n",
       "      <td>0</td>\n",
       "    </tr>\n",
       "    <tr>\n",
       "      <th>4</th>\n",
       "      <td>0</td>\n",
       "      <td>0</td>\n",
       "      <td>0</td>\n",
       "      <td>0</td>\n",
       "      <td>0</td>\n",
       "      <td>0</td>\n",
       "      <td>0</td>\n",
       "      <td>0</td>\n",
       "      <td>0</td>\n",
       "      <td>0</td>\n",
       "      <td>...</td>\n",
       "      <td>0</td>\n",
       "      <td>0</td>\n",
       "      <td>0</td>\n",
       "      <td>0</td>\n",
       "      <td>0</td>\n",
       "      <td>0</td>\n",
       "      <td>0</td>\n",
       "      <td>0</td>\n",
       "      <td>0</td>\n",
       "      <td>0</td>\n",
       "    </tr>\n",
       "  </tbody>\n",
       "</table>\n",
       "<p>5 rows × 785 columns</p>\n",
       "</div>"
      ],
      "text/plain": [
       "   label  pixel0  pixel1  pixel2  pixel3  pixel4  pixel5  pixel6  pixel7  \\\n",
       "0      1       0       0       0       0       0       0       0       0   \n",
       "1      0       0       0       0       0       0       0       0       0   \n",
       "2      1       0       0       0       0       0       0       0       0   \n",
       "3      4       0       0       0       0       0       0       0       0   \n",
       "4      0       0       0       0       0       0       0       0       0   \n",
       "\n",
       "   pixel8    ...     pixel774  pixel775  pixel776  pixel777  pixel778  \\\n",
       "0       0    ...            0         0         0         0         0   \n",
       "1       0    ...            0         0         0         0         0   \n",
       "2       0    ...            0         0         0         0         0   \n",
       "3       0    ...            0         0         0         0         0   \n",
       "4       0    ...            0         0         0         0         0   \n",
       "\n",
       "   pixel779  pixel780  pixel781  pixel782  pixel783  \n",
       "0         0         0         0         0         0  \n",
       "1         0         0         0         0         0  \n",
       "2         0         0         0         0         0  \n",
       "3         0         0         0         0         0  \n",
       "4         0         0         0         0         0  \n",
       "\n",
       "[5 rows x 785 columns]"
      ]
     },
     "execution_count": 4,
     "metadata": {},
     "output_type": "execute_result"
    }
   ],
   "source": [
    "tmp_df = df_train\n",
    "print(len(tmp_df))\n",
    "tmp_df.head()"
   ]
  },
  {
   "cell_type": "code",
   "execution_count": 5,
   "metadata": {
    "collapsed": false,
    "scrolled": false
   },
   "outputs": [],
   "source": [
    "x_train = np.array(tmp_df.ix[:,1:785])\n",
    "y_train = np.array(tmp_df.ix[:,0])"
   ]
  },
  {
   "cell_type": "code",
   "execution_count": 6,
   "metadata": {
    "collapsed": false,
    "scrolled": false
   },
   "outputs": [
    {
     "name": "stderr",
     "output_type": "stream",
     "text": [
      "Using TensorFlow backend.\n"
     ]
    }
   ],
   "source": [
    "import keras"
   ]
  },
  {
   "cell_type": "code",
   "execution_count": 7,
   "metadata": {
    "collapsed": true,
    "scrolled": false
   },
   "outputs": [],
   "source": [
    "y_labels = keras.utils.to_categorical(y_train, num_classes=10)"
   ]
  },
  {
   "cell_type": "code",
   "execution_count": null,
   "metadata": {
    "collapsed": true,
    "scrolled": true
   },
   "outputs": [],
   "source": []
  },
  {
   "cell_type": "markdown",
   "metadata": {},
   "source": [
    "## Play with given data set (mnist)"
   ]
  },
  {
   "cell_type": "code",
   "execution_count": 8,
   "metadata": {
    "collapsed": true,
    "scrolled": true
   },
   "outputs": [],
   "source": [
    "from keras.datasets import mnist"
   ]
  },
  {
   "cell_type": "code",
   "execution_count": 9,
   "metadata": {
    "collapsed": false,
    "scrolled": true
   },
   "outputs": [],
   "source": [
    "# load data\n",
    "# (X_train, y_train), (X_test, y_test) = mnist.load_data()"
   ]
  },
  {
   "cell_type": "code",
   "execution_count": null,
   "metadata": {
    "collapsed": true,
    "scrolled": true
   },
   "outputs": [],
   "source": []
  },
  {
   "cell_type": "markdown",
   "metadata": {},
   "source": [
    "## Call the sequential model"
   ]
  },
  {
   "cell_type": "code",
   "execution_count": 10,
   "metadata": {
    "collapsed": false,
    "scrolled": false
   },
   "outputs": [],
   "source": [
    "from keras.models import Sequential\n",
    "\n",
    "from keras.layers import Dense\n",
    "from keras.layers import Dropout\n",
    "from keras.layers import Flatten\n",
    "from keras.layers.convolutional import Conv2D\n",
    "from keras.layers.convolutional import MaxPooling2D\n",
    "from keras.utils import np_utils\n",
    "from keras import backend as K\n",
    "K.set_image_dim_ordering('th')"
   ]
  },
  {
   "cell_type": "code",
   "execution_count": 11,
   "metadata": {
    "collapsed": true,
    "scrolled": false
   },
   "outputs": [],
   "source": [
    "# call cnn layers\n",
    "from keras.layers import Dense, Activation"
   ]
  },
  {
   "cell_type": "code",
   "execution_count": 12,
   "metadata": {
    "collapsed": true,
    "scrolled": true
   },
   "outputs": [],
   "source": [
    "num_classes = 10"
   ]
  },
  {
   "cell_type": "code",
   "execution_count": 13,
   "metadata": {
    "collapsed": false,
    "scrolled": true
   },
   "outputs": [],
   "source": [
    "X_train = x_train.reshape(x_train.shape[0], 1, 28, 28).astype('float32')\n",
    "X_train = X_train / 255"
   ]
  },
  {
   "cell_type": "code",
   "execution_count": 14,
   "metadata": {
    "collapsed": false,
    "scrolled": false
   },
   "outputs": [],
   "source": [
    "def init_model():\n",
    "    model = Sequential()\n",
    "    model.add(Dense(units=num_classes, input_dim=784))\n",
    "    model.add(Activation('relu'))\n",
    "    model.add(Dense(units=10))\n",
    "\n",
    "    model.add(Activation('softmax'))\n",
    "\n",
    "    model.compile(loss='categorical_crossentropy',\n",
    "                  optimizer='rmsprop',\n",
    "                  metrics=['accuracy'])\n",
    "    \n",
    "    return model"
   ]
  },
  {
   "cell_type": "code",
   "execution_count": 15,
   "metadata": {
    "collapsed": true,
    "scrolled": true
   },
   "outputs": [],
   "source": [
    "def baseline_model():\n",
    "# create model\n",
    "    model = Sequential()\n",
    "    model.add(Conv2D(32, (5, 5), input_shape=(1, 28, 28), activation='relu'))\n",
    "    model.add(MaxPooling2D(pool_size=(2, 2)))\n",
    "    model.add(Dropout(0.2))\n",
    "    model.add(Flatten())\n",
    "    model.add(Dense(128, activation='relu'))\n",
    "    model.add(Dense(num_classes, activation='softmax'))\n",
    "    # Compile model\n",
    "    model.compile(loss='categorical_crossentropy', optimizer='adam', metrics=['accuracy'])\n",
    "    return model"
   ]
  },
  {
   "cell_type": "code",
   "execution_count": 16,
   "metadata": {
    "collapsed": true,
    "scrolled": true
   },
   "outputs": [],
   "source": [
    "# define the larger model\n",
    "def larger_model():\n",
    "# create model\n",
    "    model = Sequential()\n",
    "    model.add(Conv2D(30, (5, 5), input_shape=(1, 28, 28), activation='relu'))\n",
    "    model.add(MaxPooling2D(pool_size=(2, 2)))\n",
    "    model.add(Conv2D(15, (3, 3), activation='relu'))\n",
    "    model.add(MaxPooling2D(pool_size=(2, 2)))\n",
    "    model.add(Dropout(0.2))\n",
    "    model.add(Flatten())\n",
    "    model.add(Dense(128, activation='relu'))\n",
    "    model.add(Dense(50, activation='relu'))\n",
    "    model.add(Dense(num_classes, activation='softmax'))\n",
    "    # Compile model\n",
    "    model.compile(loss='categorical_crossentropy', optimizer='adam', metrics=['accuracy'])\n",
    "    return model"
   ]
  },
  {
   "cell_type": "code",
   "execution_count": 17,
   "metadata": {
    "collapsed": false,
    "scrolled": true
   },
   "outputs": [],
   "source": [
    "model = larger_model()"
   ]
  },
  {
   "cell_type": "code",
   "execution_count": 18,
   "metadata": {
    "collapsed": false,
    "scrolled": true
   },
   "outputs": [
    {
     "name": "stdout",
     "output_type": "stream",
     "text": [
      "Train on 33600 samples, validate on 8400 samples\n",
      "Epoch 1/200\n",
      "33600/33600 [==============================] - 127s - loss: 1.6293 - acc: 0.4960 - val_loss: 0.8377 - val_acc: 0.7667\n",
      "Epoch 2/200\n",
      "33600/33600 [==============================] - 131s - loss: 0.7250 - acc: 0.7751 - val_loss: 0.4578 - val_acc: 0.8644\n",
      "Epoch 3/200\n",
      "33600/33600 [==============================] - 132s - loss: 0.4437 - acc: 0.8650 - val_loss: 0.3106 - val_acc: 0.9046\n",
      "Epoch 4/200\n",
      "33600/33600 [==============================] - 132s - loss: 0.3379 - acc: 0.8967 - val_loss: 0.2234 - val_acc: 0.9381\n",
      "Epoch 5/200\n",
      "33600/33600 [==============================] - 130s - loss: 0.2731 - acc: 0.9176 - val_loss: 0.2021 - val_acc: 0.9369\n",
      "Epoch 6/200\n",
      "33600/33600 [==============================] - 131s - loss: 0.2313 - acc: 0.9303 - val_loss: 0.1758 - val_acc: 0.9464\n",
      "Epoch 7/200\n",
      "33600/33600 [==============================] - 131s - loss: 0.2022 - acc: 0.9383 - val_loss: 0.1363 - val_acc: 0.9608\n",
      "Epoch 8/200\n",
      "33600/33600 [==============================] - 131s - loss: 0.1669 - acc: 0.9498 - val_loss: 0.1119 - val_acc: 0.9664\n",
      "Epoch 9/200\n",
      "33600/33600 [==============================] - 131s - loss: 0.1522 - acc: 0.9527 - val_loss: 0.1380 - val_acc: 0.9568\n",
      "Epoch 10/200\n",
      "33600/33600 [==============================] - 131s - loss: 0.1332 - acc: 0.9579 - val_loss: 0.1069 - val_acc: 0.9674\n",
      "Epoch 11/200\n",
      "33600/33600 [==============================] - 131s - loss: 0.1300 - acc: 0.9607 - val_loss: 0.0974 - val_acc: 0.9681\n",
      "Epoch 12/200\n",
      "33600/33600 [==============================] - 131s - loss: 0.1102 - acc: 0.9662 - val_loss: 0.0810 - val_acc: 0.9735\n",
      "Epoch 13/200\n",
      "33600/33600 [==============================] - 131s - loss: 0.1063 - acc: 0.9678 - val_loss: 0.0692 - val_acc: 0.9782\n",
      "Epoch 14/200\n",
      "33600/33600 [==============================] - 130s - loss: 0.0968 - acc: 0.9700 - val_loss: 0.0774 - val_acc: 0.9748\n",
      "Epoch 15/200\n",
      "33600/33600 [==============================] - 131s - loss: 0.0847 - acc: 0.9740 - val_loss: 0.0613 - val_acc: 0.9790\n",
      "Epoch 16/200\n",
      "33600/33600 [==============================] - 131s - loss: 0.0846 - acc: 0.9736 - val_loss: 0.0615 - val_acc: 0.9804\n",
      "Epoch 17/200\n",
      "33600/33600 [==============================] - 131s - loss: 0.0796 - acc: 0.9749 - val_loss: 0.0534 - val_acc: 0.9821\n",
      "Epoch 18/200\n",
      "33600/33600 [==============================] - 132s - loss: 0.0713 - acc: 0.9776 - val_loss: 0.0564 - val_acc: 0.9819\n",
      "Epoch 19/200\n",
      "33600/33600 [==============================] - 131s - loss: 0.0687 - acc: 0.9786 - val_loss: 0.0488 - val_acc: 0.9830\n",
      "Epoch 20/200\n",
      "33600/33600 [==============================] - 131s - loss: 0.0667 - acc: 0.9794 - val_loss: 0.0462 - val_acc: 0.9838\n",
      "Epoch 21/200\n",
      "33600/33600 [==============================] - 131s - loss: 0.0593 - acc: 0.9817 - val_loss: 0.0452 - val_acc: 0.9844\n",
      "Epoch 22/200\n",
      "33600/33600 [==============================] - 130s - loss: 0.0573 - acc: 0.9823 - val_loss: 0.0468 - val_acc: 0.9845\n",
      "Epoch 23/200\n",
      "33600/33600 [==============================] - 130s - loss: 0.0578 - acc: 0.9817 - val_loss: 0.0420 - val_acc: 0.9861\n",
      "Epoch 24/200\n",
      "33600/33600 [==============================] - 131s - loss: 0.0530 - acc: 0.9835 - val_loss: 0.0421 - val_acc: 0.9863\n",
      "Epoch 25/200\n",
      "33600/33600 [==============================] - 131s - loss: 0.0504 - acc: 0.9843 - val_loss: 0.0413 - val_acc: 0.9857\n",
      "Epoch 26/200\n",
      "33600/33600 [==============================] - 131s - loss: 0.0487 - acc: 0.9841 - val_loss: 0.0358 - val_acc: 0.9882\n",
      "Epoch 27/200\n",
      "33600/33600 [==============================] - 131s - loss: 0.0456 - acc: 0.9858 - val_loss: 0.0430 - val_acc: 0.9854\n",
      "Epoch 28/200\n",
      "33600/33600 [==============================] - 130s - loss: 0.0441 - acc: 0.9854 - val_loss: 0.0455 - val_acc: 0.9862\n",
      "Epoch 29/200\n",
      "33600/33600 [==============================] - 131s - loss: 0.0434 - acc: 0.9857 - val_loss: 0.0344 - val_acc: 0.9885\n",
      "Epoch 30/200\n",
      "33600/33600 [==============================] - 130s - loss: 0.0392 - acc: 0.9871 - val_loss: 0.0421 - val_acc: 0.9863\n",
      "Epoch 31/200\n",
      "33600/33600 [==============================] - 130s - loss: 0.0400 - acc: 0.9874 - val_loss: 0.0420 - val_acc: 0.9862\n",
      "Epoch 32/200\n",
      "33600/33600 [==============================] - 131s - loss: 0.0350 - acc: 0.9889 - val_loss: 0.0457 - val_acc: 0.9857\n",
      "Epoch 33/200\n",
      "33600/33600 [==============================] - 131s - loss: 0.0360 - acc: 0.9886 - val_loss: 0.0480 - val_acc: 0.9850\n",
      "Epoch 34/200\n",
      "33600/33600 [==============================] - 131s - loss: 0.0357 - acc: 0.9881 - val_loss: 0.0327 - val_acc: 0.9899\n",
      "Epoch 35/200\n",
      "33600/33600 [==============================] - 130s - loss: 0.0329 - acc: 0.9894 - val_loss: 0.0359 - val_acc: 0.9887\n",
      "Epoch 36/200\n",
      "33600/33600 [==============================] - 130s - loss: 0.0354 - acc: 0.9883 - val_loss: 0.0424 - val_acc: 0.9870\n",
      "Epoch 37/200\n",
      "33600/33600 [==============================] - 130s - loss: 0.0295 - acc: 0.9898 - val_loss: 0.0419 - val_acc: 0.9869\n",
      "Epoch 38/200\n",
      "33600/33600 [==============================] - 131s - loss: 0.0308 - acc: 0.9896 - val_loss: 0.0343 - val_acc: 0.9893\n",
      "Epoch 39/200\n",
      "33600/33600 [==============================] - 132s - loss: 0.0307 - acc: 0.9901 - val_loss: 0.0348 - val_acc: 0.9887\n",
      "Epoch 40/200\n",
      "33600/33600 [==============================] - 131s - loss: 0.0271 - acc: 0.9917 - val_loss: 0.0354 - val_acc: 0.9898\n",
      "Epoch 41/200\n",
      "33600/33600 [==============================] - 131s - loss: 0.0276 - acc: 0.9910 - val_loss: 0.0328 - val_acc: 0.9893\n",
      "Epoch 42/200\n",
      "33600/33600 [==============================] - 131s - loss: 0.0275 - acc: 0.9911 - val_loss: 0.0398 - val_acc: 0.9873\n",
      "Epoch 43/200\n",
      "33600/33600 [==============================] - 131s - loss: 0.0260 - acc: 0.9912 - val_loss: 0.0354 - val_acc: 0.9892\n",
      "Epoch 44/200\n",
      "33600/33600 [==============================] - 130s - loss: 0.0248 - acc: 0.9921 - val_loss: 0.0335 - val_acc: 0.9895\n",
      "Epoch 45/200\n",
      "33600/33600 [==============================] - 131s - loss: 0.0234 - acc: 0.9924 - val_loss: 0.0337 - val_acc: 0.9896\n",
      "Epoch 46/200\n",
      "33600/33600 [==============================] - 131s - loss: 0.0229 - acc: 0.9922 - val_loss: 0.0370 - val_acc: 0.9882\n",
      "Epoch 47/200\n",
      "33600/33600 [==============================] - 130s - loss: 0.0224 - acc: 0.9924 - val_loss: 0.0359 - val_acc: 0.9892\n",
      "Epoch 48/200\n",
      "33600/33600 [==============================] - 132s - loss: 0.0221 - acc: 0.9923 - val_loss: 0.0454 - val_acc: 0.9863\n",
      "Epoch 49/200\n",
      "33600/33600 [==============================] - 132s - loss: 0.0227 - acc: 0.9924 - val_loss: 0.0328 - val_acc: 0.9901\n",
      "Epoch 50/200\n",
      "33600/33600 [==============================] - 131s - loss: 0.0195 - acc: 0.9939 - val_loss: 0.0352 - val_acc: 0.9890\n",
      "Epoch 51/200\n",
      "33600/33600 [==============================] - 132s - loss: 0.0215 - acc: 0.9925 - val_loss: 0.0330 - val_acc: 0.9904\n",
      "Epoch 52/200\n",
      "33600/33600 [==============================] - 132s - loss: 0.0195 - acc: 0.9934 - val_loss: 0.0347 - val_acc: 0.9894\n",
      "Epoch 53/200\n",
      "33600/33600 [==============================] - 132s - loss: 0.0181 - acc: 0.9939 - val_loss: 0.0319 - val_acc: 0.9911\n",
      "Epoch 54/200\n",
      "33600/33600 [==============================] - 131s - loss: 0.0194 - acc: 0.9933 - val_loss: 0.0291 - val_acc: 0.9911\n",
      "Epoch 55/200\n",
      "33600/33600 [==============================] - 132s - loss: 0.0186 - acc: 0.9935 - val_loss: 0.0443 - val_acc: 0.9862\n",
      "Epoch 56/200\n",
      "33600/33600 [==============================] - 131s - loss: 0.0177 - acc: 0.9942 - val_loss: 0.0314 - val_acc: 0.9906\n",
      "Epoch 57/200\n",
      "33600/33600 [==============================] - 130s - loss: 0.0170 - acc: 0.9943 - val_loss: 0.0401 - val_acc: 0.9886\n",
      "Epoch 58/200\n",
      "33600/33600 [==============================] - 130s - loss: 0.0166 - acc: 0.9941 - val_loss: 0.0340 - val_acc: 0.9905\n",
      "Epoch 59/200\n",
      "33600/33600 [==============================] - 131s - loss: 0.0169 - acc: 0.9944 - val_loss: 0.0443 - val_acc: 0.9875\n",
      "Epoch 60/200\n",
      "33600/33600 [==============================] - 130s - loss: 0.0176 - acc: 0.9942 - val_loss: 0.0317 - val_acc: 0.9913\n",
      "Epoch 61/200\n",
      "33600/33600 [==============================] - 131s - loss: 0.0153 - acc: 0.9952 - val_loss: 0.0323 - val_acc: 0.9901\n",
      "Epoch 62/200\n",
      "33600/33600 [==============================] - 132s - loss: 0.0160 - acc: 0.9944 - val_loss: 0.0402 - val_acc: 0.9892\n",
      "Epoch 63/200\n",
      "33600/33600 [==============================] - 131s - loss: 0.0143 - acc: 0.9951 - val_loss: 0.0338 - val_acc: 0.9905\n",
      "Epoch 64/200\n",
      "33600/33600 [==============================] - 131s - loss: 0.0138 - acc: 0.9956 - val_loss: 0.0382 - val_acc: 0.9900\n",
      "Epoch 65/200\n",
      "33600/33600 [==============================] - 132s - loss: 0.0136 - acc: 0.9955 - val_loss: 0.0361 - val_acc: 0.9900\n",
      "Epoch 66/200\n",
      "33600/33600 [==============================] - 131s - loss: 0.0142 - acc: 0.9951 - val_loss: 0.0344 - val_acc: 0.9913\n",
      "Epoch 67/200\n",
      "33600/33600 [==============================] - 131s - loss: 0.0132 - acc: 0.9955 - val_loss: 0.0350 - val_acc: 0.9902\n",
      "Epoch 68/200\n",
      "33600/33600 [==============================] - 131s - loss: 0.0139 - acc: 0.9952 - val_loss: 0.0317 - val_acc: 0.9915\n",
      "Epoch 69/200\n",
      "33600/33600 [==============================] - 130s - loss: 0.0125 - acc: 0.9957 - val_loss: 0.0327 - val_acc: 0.9914\n",
      "Epoch 70/200\n",
      "33600/33600 [==============================] - 131s - loss: 0.0128 - acc: 0.9957 - val_loss: 0.0378 - val_acc: 0.9900\n",
      "Epoch 71/200\n",
      "33600/33600 [==============================] - 130s - loss: 0.0114 - acc: 0.9962 - val_loss: 0.0434 - val_acc: 0.9887\n",
      "Epoch 72/200\n",
      "33600/33600 [==============================] - 130s - loss: 0.0128 - acc: 0.9957 - val_loss: 0.0313 - val_acc: 0.9917\n",
      "Epoch 73/200\n",
      "33600/33600 [==============================] - 131s - loss: 0.0121 - acc: 0.9960 - val_loss: 0.0393 - val_acc: 0.9898\n",
      "Epoch 74/200\n",
      "33600/33600 [==============================] - 131s - loss: 0.0125 - acc: 0.9959 - val_loss: 0.0353 - val_acc: 0.9912\n",
      "Epoch 75/200\n",
      "33600/33600 [==============================] - 131s - loss: 0.0104 - acc: 0.9966 - val_loss: 0.0317 - val_acc: 0.9911\n",
      "Epoch 76/200\n",
      "33600/33600 [==============================] - 131s - loss: 0.0115 - acc: 0.9960 - val_loss: 0.0351 - val_acc: 0.9907\n",
      "Epoch 77/200\n",
      "33600/33600 [==============================] - 131s - loss: 0.0101 - acc: 0.9964 - val_loss: 0.0333 - val_acc: 0.9915\n",
      "Epoch 78/200\n",
      "33600/33600 [==============================] - 132s - loss: 0.0109 - acc: 0.9962 - val_loss: 0.0332 - val_acc: 0.9912\n",
      "Epoch 79/200\n",
      "33600/33600 [==============================] - 132s - loss: 0.0101 - acc: 0.9965 - val_loss: 0.0331 - val_acc: 0.9919\n",
      "Epoch 80/200\n",
      "33600/33600 [==============================] - 135s - loss: 0.0111 - acc: 0.9959 - val_loss: 0.0364 - val_acc: 0.9896\n",
      "Epoch 81/200\n",
      "33600/33600 [==============================] - 133s - loss: 0.0086 - acc: 0.9974 - val_loss: 0.0326 - val_acc: 0.9915\n",
      "Epoch 82/200\n",
      "33600/33600 [==============================] - 132s - loss: 0.0104 - acc: 0.9966 - val_loss: 0.0341 - val_acc: 0.9915\n",
      "Epoch 83/200\n",
      "33600/33600 [==============================] - 132s - loss: 0.0087 - acc: 0.9973 - val_loss: 0.0378 - val_acc: 0.9898\n",
      "Epoch 84/200\n",
      "33600/33600 [==============================] - 132s - loss: 0.0092 - acc: 0.9968 - val_loss: 0.0322 - val_acc: 0.9921\n",
      "Epoch 85/200\n",
      "33600/33600 [==============================] - 131s - loss: 0.0081 - acc: 0.9975 - val_loss: 0.0377 - val_acc: 0.9905\n",
      "Epoch 86/200\n",
      "33600/33600 [==============================] - 131s - loss: 0.0081 - acc: 0.9975 - val_loss: 0.0323 - val_acc: 0.9919\n",
      "Epoch 87/200\n",
      "33600/33600 [==============================] - 132s - loss: 0.0097 - acc: 0.9966 - val_loss: 0.0383 - val_acc: 0.9917\n",
      "Epoch 88/200\n",
      "33600/33600 [==============================] - 130s - loss: 0.0097 - acc: 0.9967 - val_loss: 0.0353 - val_acc: 0.9910\n",
      "Epoch 89/200\n",
      "33600/33600 [==============================] - 130s - loss: 0.0094 - acc: 0.9966 - val_loss: 0.0359 - val_acc: 0.9910\n",
      "Epoch 90/200\n",
      "33600/33600 [==============================] - 132s - loss: 0.0087 - acc: 0.9971 - val_loss: 0.0384 - val_acc: 0.9908\n",
      "Epoch 91/200\n",
      "33600/33600 [==============================] - 132s - loss: 0.0076 - acc: 0.9978 - val_loss: 0.0365 - val_acc: 0.9917\n",
      "Epoch 92/200\n",
      "33600/33600 [==============================] - 132s - loss: 0.0091 - acc: 0.9970 - val_loss: 0.0359 - val_acc: 0.9918\n",
      "Epoch 93/200\n",
      "33600/33600 [==============================] - 130s - loss: 0.0072 - acc: 0.9976 - val_loss: 0.0417 - val_acc: 0.9908\n",
      "Epoch 94/200\n",
      "33600/33600 [==============================] - 131s - loss: 0.0079 - acc: 0.9972 - val_loss: 0.0330 - val_acc: 0.9917\n",
      "Epoch 95/200\n",
      "33600/33600 [==============================] - 132s - loss: 0.0075 - acc: 0.9974 - val_loss: 0.0373 - val_acc: 0.9920\n",
      "Epoch 96/200\n",
      "33600/33600 [==============================] - 131s - loss: 0.0072 - acc: 0.9977 - val_loss: 0.0420 - val_acc: 0.9905\n",
      "Epoch 97/200\n",
      "33600/33600 [==============================] - 168s - loss: 0.0076 - acc: 0.9975 - val_loss: 0.0352 - val_acc: 0.9926\n",
      "Epoch 98/200\n",
      "33600/33600 [==============================] - 142s - loss: 0.0070 - acc: 0.9976 - val_loss: 0.0385 - val_acc: 0.9910\n",
      "Epoch 99/200\n",
      "33600/33600 [==============================] - 153s - loss: 0.0075 - acc: 0.9976 - val_loss: 0.0363 - val_acc: 0.9907\n",
      "Epoch 100/200\n",
      "33600/33600 [==============================] - 148s - loss: 0.0070 - acc: 0.9976 - val_loss: 0.0394 - val_acc: 0.9904\n",
      "Epoch 101/200\n",
      "33600/33600 [==============================] - 171s - loss: 0.0075 - acc: 0.9977 - val_loss: 0.0363 - val_acc: 0.9913\n",
      "Epoch 102/200\n",
      "33600/33600 [==============================] - 174s - loss: 0.0082 - acc: 0.9973 - val_loss: 0.0378 - val_acc: 0.9919\n",
      "Epoch 103/200\n",
      "33600/33600 [==============================] - 173s - loss: 0.0070 - acc: 0.9977 - val_loss: 0.0399 - val_acc: 0.9911\n",
      "Epoch 104/200\n",
      "33600/33600 [==============================] - 170s - loss: 0.0071 - acc: 0.9977 - val_loss: 0.0344 - val_acc: 0.9921\n",
      "Epoch 105/200\n",
      "33600/33600 [==============================] - 178s - loss: 0.0058 - acc: 0.9983 - val_loss: 0.0439 - val_acc: 0.9901\n",
      "Epoch 106/200\n",
      "33600/33600 [==============================] - 175s - loss: 0.0059 - acc: 0.9982 - val_loss: 0.0371 - val_acc: 0.9917\n",
      "Epoch 107/200\n",
      "33600/33600 [==============================] - 134s - loss: 0.0070 - acc: 0.9978 - val_loss: 0.0370 - val_acc: 0.9914\n",
      "Epoch 108/200\n",
      "33600/33600 [==============================] - 131s - loss: 0.0072 - acc: 0.9978 - val_loss: 0.0443 - val_acc: 0.9902\n",
      "Epoch 109/200\n",
      "33600/33600 [==============================] - 131s - loss: 0.0074 - acc: 0.9974 - val_loss: 0.0394 - val_acc: 0.9908\n",
      "Epoch 110/200\n",
      "33600/33600 [==============================] - 131s - loss: 0.0056 - acc: 0.9982 - val_loss: 0.0365 - val_acc: 0.9908\n",
      "Epoch 111/200\n",
      "33600/33600 [==============================] - 131s - loss: 0.0063 - acc: 0.9979 - val_loss: 0.0457 - val_acc: 0.9905\n",
      "Epoch 112/200\n",
      "33600/33600 [==============================] - 129s - loss: 0.0070 - acc: 0.9976 - val_loss: 0.0418 - val_acc: 0.9904\n",
      "Epoch 113/200\n",
      "33600/33600 [==============================] - 128s - loss: 0.0060 - acc: 0.9981 - val_loss: 0.0394 - val_acc: 0.9915\n",
      "Epoch 114/200\n",
      "33600/33600 [==============================] - 129s - loss: 0.0054 - acc: 0.9981 - val_loss: 0.0361 - val_acc: 0.9910\n",
      "Epoch 115/200\n",
      "33600/33600 [==============================] - 130s - loss: 0.0058 - acc: 0.9982 - val_loss: 0.0402 - val_acc: 0.9918\n",
      "Epoch 116/200\n",
      "33600/33600 [==============================] - 130s - loss: 0.0054 - acc: 0.9984 - val_loss: 0.0370 - val_acc: 0.9911\n",
      "Epoch 117/200\n",
      "33600/33600 [==============================] - 129s - loss: 0.0060 - acc: 0.9982 - val_loss: 0.0404 - val_acc: 0.9907\n",
      "Epoch 118/200\n",
      "33600/33600 [==============================] - 130s - loss: 0.0050 - acc: 0.9984 - val_loss: 0.0339 - val_acc: 0.9918\n",
      "Epoch 119/200\n",
      "33600/33600 [==============================] - 129s - loss: 0.0056 - acc: 0.9982 - val_loss: 0.0578 - val_acc: 0.9888\n",
      "Epoch 120/200\n",
      "33600/33600 [==============================] - 129s - loss: 0.0059 - acc: 0.9982 - val_loss: 0.0369 - val_acc: 0.9912\n",
      "Epoch 121/200\n",
      "33600/33600 [==============================] - 130s - loss: 0.0058 - acc: 0.9981 - val_loss: 0.0395 - val_acc: 0.9920\n",
      "Epoch 122/200\n",
      "33600/33600 [==============================] - 129s - loss: 0.0054 - acc: 0.9981 - val_loss: 0.0433 - val_acc: 0.9900\n",
      "Epoch 123/200\n",
      "33600/33600 [==============================] - 129s - loss: 0.0053 - acc: 0.9984 - val_loss: 0.0400 - val_acc: 0.9917\n",
      "Epoch 124/200\n",
      "33600/33600 [==============================] - 132s - loss: 0.0050 - acc: 0.9983 - val_loss: 0.0467 - val_acc: 0.9893\n",
      "Epoch 125/200\n",
      "33600/33600 [==============================] - 154s - loss: 0.0053 - acc: 0.9982 - val_loss: 0.0376 - val_acc: 0.9915\n",
      "Epoch 126/200\n",
      "33600/33600 [==============================] - 161s - loss: 0.0054 - acc: 0.9985 - val_loss: 0.0371 - val_acc: 0.9930\n",
      "Epoch 127/200\n",
      "33600/33600 [==============================] - 162s - loss: 0.0055 - acc: 0.9982 - val_loss: 0.0403 - val_acc: 0.9920\n",
      "Epoch 128/200\n",
      "33600/33600 [==============================] - 165s - loss: 0.0052 - acc: 0.9985 - val_loss: 0.0377 - val_acc: 0.9923\n",
      "Epoch 129/200\n",
      "33600/33600 [==============================] - 168s - loss: 0.0048 - acc: 0.9986 - val_loss: 0.0383 - val_acc: 0.9919\n",
      "Epoch 130/200\n",
      "33600/33600 [==============================] - 147s - loss: 0.0052 - acc: 0.9984 - val_loss: 0.0390 - val_acc: 0.9912\n",
      "Epoch 131/200\n",
      "33600/33600 [==============================] - 138s - loss: 0.0052 - acc: 0.9985 - val_loss: 0.0393 - val_acc: 0.9920\n",
      "Epoch 132/200\n",
      "33600/33600 [==============================] - 130s - loss: 0.0048 - acc: 0.9985 - val_loss: 0.0381 - val_acc: 0.9915\n",
      "Epoch 133/200\n",
      "33600/33600 [==============================] - 130s - loss: 0.0052 - acc: 0.9983 - val_loss: 0.0420 - val_acc: 0.9911\n",
      "Epoch 134/200\n",
      "33600/33600 [==============================] - 130s - loss: 0.0053 - acc: 0.9980 - val_loss: 0.0420 - val_acc: 0.9914\n",
      "Epoch 135/200\n",
      "33600/33600 [==============================] - 130s - loss: 0.0044 - acc: 0.9985 - val_loss: 0.0365 - val_acc: 0.9925\n",
      "Epoch 136/200\n",
      "33600/33600 [==============================] - 130s - loss: 0.0045 - acc: 0.9988 - val_loss: 0.0421 - val_acc: 0.9926\n",
      "Epoch 137/200\n",
      "33600/33600 [==============================] - 130s - loss: 0.0050 - acc: 0.9986 - val_loss: 0.0393 - val_acc: 0.9919\n",
      "Epoch 138/200\n",
      "33600/33600 [==============================] - 129s - loss: 0.0037 - acc: 0.9990 - val_loss: 0.0449 - val_acc: 0.9910\n",
      "Epoch 139/200\n",
      "33600/33600 [==============================] - 130s - loss: 0.0046 - acc: 0.9986 - val_loss: 0.0359 - val_acc: 0.9919\n",
      "Epoch 140/200\n",
      "33600/33600 [==============================] - 130s - loss: 0.0045 - acc: 0.9986 - val_loss: 0.0372 - val_acc: 0.9924\n",
      "Epoch 141/200\n",
      "33600/33600 [==============================] - 129s - loss: 0.0041 - acc: 0.9985 - val_loss: 0.0380 - val_acc: 0.9924\n",
      "Epoch 142/200\n",
      "33600/33600 [==============================] - 130s - loss: 0.0038 - acc: 0.9987 - val_loss: 0.0380 - val_acc: 0.9912\n",
      "Epoch 143/200\n",
      "33600/33600 [==============================] - 130s - loss: 0.0047 - acc: 0.9985 - val_loss: 0.0417 - val_acc: 0.9910\n",
      "Epoch 144/200\n",
      "33600/33600 [==============================] - 169s - loss: 0.0043 - acc: 0.9989 - val_loss: 0.0419 - val_acc: 0.9910\n",
      "Epoch 145/200\n",
      "33600/33600 [==============================] - 190s - loss: 0.0050 - acc: 0.9984 - val_loss: 0.0449 - val_acc: 0.9911\n",
      "Epoch 146/200\n",
      "33600/33600 [==============================] - 188s - loss: 0.0048 - acc: 0.9987 - val_loss: 0.0441 - val_acc: 0.9910\n",
      "Epoch 147/200\n",
      "33600/33600 [==============================] - 193s - loss: 0.0041 - acc: 0.9987 - val_loss: 0.0424 - val_acc: 0.9906\n",
      "Epoch 148/200\n",
      "33600/33600 [==============================] - 187s - loss: 0.0037 - acc: 0.9988 - val_loss: 0.0401 - val_acc: 0.9914\n",
      "Epoch 149/200\n",
      "33600/33600 [==============================] - 188s - loss: 0.0060 - acc: 0.9984 - val_loss: 0.0391 - val_acc: 0.9913\n",
      "Epoch 150/200\n",
      "33600/33600 [==============================] - 188s - loss: 0.0032 - acc: 0.9992 - val_loss: 0.0444 - val_acc: 0.9914\n",
      "Epoch 151/200\n",
      "33600/33600 [==============================] - 187s - loss: 0.0040 - acc: 0.9987 - val_loss: 0.0524 - val_acc: 0.9896\n",
      "Epoch 152/200\n",
      "33600/33600 [==============================] - 143s - loss: 0.0039 - acc: 0.9988 - val_loss: 0.0431 - val_acc: 0.9911\n",
      "Epoch 153/200\n",
      "33600/33600 [==============================] - 130s - loss: 0.0039 - acc: 0.9992 - val_loss: 0.0396 - val_acc: 0.9910\n",
      "Epoch 154/200\n",
      "33600/33600 [==============================] - 132s - loss: 0.0051 - acc: 0.9983 - val_loss: 0.0441 - val_acc: 0.9901\n",
      "Epoch 155/200\n",
      "33600/33600 [==============================] - 130s - loss: 0.0050 - acc: 0.9985 - val_loss: 0.0424 - val_acc: 0.9905\n",
      "Epoch 156/200\n",
      "33600/33600 [==============================] - 130s - loss: 0.0042 - acc: 0.9986 - val_loss: 0.0457 - val_acc: 0.9913\n",
      "Epoch 157/200\n",
      "33600/33600 [==============================] - 130s - loss: 0.0040 - acc: 0.9989 - val_loss: 0.0372 - val_acc: 0.9925\n",
      "Epoch 158/200\n",
      "33600/33600 [==============================] - 130s - loss: 0.0041 - acc: 0.9986 - val_loss: 0.0435 - val_acc: 0.9912\n",
      "Epoch 159/200\n",
      "33600/33600 [==============================] - 128s - loss: 0.0046 - acc: 0.9985 - val_loss: 0.0391 - val_acc: 0.9919\n",
      "Epoch 160/200\n",
      "33600/33600 [==============================] - 128s - loss: 0.0034 - acc: 0.9989 - val_loss: 0.0419 - val_acc: 0.9914\n",
      "Epoch 161/200\n",
      "33600/33600 [==============================] - 128s - loss: 0.0034 - acc: 0.9989 - val_loss: 0.0402 - val_acc: 0.9920\n",
      "Epoch 162/200\n",
      "33600/33600 [==============================] - 129s - loss: 0.0034 - acc: 0.9990 - val_loss: 0.0417 - val_acc: 0.9913\n",
      "Epoch 163/200\n",
      "33600/33600 [==============================] - 128s - loss: 0.0035 - acc: 0.9989 - val_loss: 0.0422 - val_acc: 0.9913\n",
      "Epoch 164/200\n",
      "33600/33600 [==============================] - 128s - loss: 0.0040 - acc: 0.9988 - val_loss: 0.0403 - val_acc: 0.9912\n",
      "Epoch 165/200\n",
      "33600/33600 [==============================] - 128s - loss: 0.0038 - acc: 0.9989 - val_loss: 0.0415 - val_acc: 0.9927\n",
      "Epoch 166/200\n",
      "33600/33600 [==============================] - 128s - loss: 0.0046 - acc: 0.9986 - val_loss: 0.0483 - val_acc: 0.9905\n",
      "Epoch 167/200\n",
      "33600/33600 [==============================] - 128s - loss: 0.0034 - acc: 0.9989 - val_loss: 0.0436 - val_acc: 0.9911\n",
      "Epoch 168/200\n",
      "33600/33600 [==============================] - 128s - loss: 0.0041 - acc: 0.9988 - val_loss: 0.0421 - val_acc: 0.9917\n",
      "Epoch 169/200\n",
      "33600/33600 [==============================] - 128s - loss: 0.0039 - acc: 0.9987 - val_loss: 0.0502 - val_acc: 0.9890\n",
      "Epoch 170/200\n",
      "33600/33600 [==============================] - 128s - loss: 0.0033 - acc: 0.9990 - val_loss: 0.0443 - val_acc: 0.9912\n",
      "Epoch 171/200\n",
      "33600/33600 [==============================] - 128s - loss: 0.0038 - acc: 0.9987 - val_loss: 0.0447 - val_acc: 0.9911\n",
      "Epoch 172/200\n",
      "33600/33600 [==============================] - 128s - loss: 0.0037 - acc: 0.9991 - val_loss: 0.0510 - val_acc: 0.9905\n",
      "Epoch 173/200\n",
      "33600/33600 [==============================] - 128s - loss: 0.0040 - acc: 0.9985 - val_loss: 0.0430 - val_acc: 0.9907\n",
      "Epoch 174/200\n",
      "33600/33600 [==============================] - 127s - loss: 0.0025 - acc: 0.9993 - val_loss: 0.0423 - val_acc: 0.9923\n",
      "Epoch 175/200\n",
      "33600/33600 [==============================] - 127s - loss: 0.0043 - acc: 0.9987 - val_loss: 0.0496 - val_acc: 0.9912\n",
      "Epoch 176/200\n",
      "33600/33600 [==============================] - 127s - loss: 0.0034 - acc: 0.9990 - val_loss: 0.0410 - val_acc: 0.9917\n",
      "Epoch 177/200\n",
      "33600/33600 [==============================] - 127s - loss: 0.0034 - acc: 0.9989 - val_loss: 0.0448 - val_acc: 0.9920\n",
      "Epoch 178/200\n",
      "33600/33600 [==============================] - 127s - loss: 0.0031 - acc: 0.9991 - val_loss: 0.0427 - val_acc: 0.9919\n",
      "Epoch 179/200\n",
      "33600/33600 [==============================] - 127s - loss: 0.0029 - acc: 0.9991 - val_loss: 0.0453 - val_acc: 0.9910\n",
      "Epoch 180/200\n",
      "33600/33600 [==============================] - 128s - loss: 0.0032 - acc: 0.9991 - val_loss: 0.0416 - val_acc: 0.9920\n",
      "Epoch 181/200\n",
      "33600/33600 [==============================] - 127s - loss: 0.0028 - acc: 0.9990 - val_loss: 0.0435 - val_acc: 0.9919\n",
      "Epoch 182/200\n",
      "33600/33600 [==============================] - 127s - loss: 0.0028 - acc: 0.9991 - val_loss: 0.0437 - val_acc: 0.9920\n",
      "Epoch 183/200\n",
      "33600/33600 [==============================] - 128s - loss: 0.0034 - acc: 0.9991 - val_loss: 0.0468 - val_acc: 0.9907\n",
      "Epoch 184/200\n",
      "33600/33600 [==============================] - 127s - loss: 0.0036 - acc: 0.9988 - val_loss: 0.0468 - val_acc: 0.9918\n",
      "Epoch 185/200\n",
      "33600/33600 [==============================] - 127s - loss: 0.0033 - acc: 0.9988 - val_loss: 0.0419 - val_acc: 0.9921\n",
      "Epoch 186/200\n",
      "33600/33600 [==============================] - 127s - loss: 0.0035 - acc: 0.9990 - val_loss: 0.0440 - val_acc: 0.9917\n",
      "Epoch 187/200\n",
      "33600/33600 [==============================] - 127s - loss: 0.0033 - acc: 0.9988 - val_loss: 0.0562 - val_acc: 0.9896\n",
      "Epoch 188/200\n",
      "33600/33600 [==============================] - 128s - loss: 0.0034 - acc: 0.9990 - val_loss: 0.0426 - val_acc: 0.9917\n",
      "Epoch 189/200\n",
      "33600/33600 [==============================] - 127s - loss: 0.0029 - acc: 0.9991 - val_loss: 0.0393 - val_acc: 0.9923\n",
      "Epoch 190/200\n",
      "33600/33600 [==============================] - 127s - loss: 0.0024 - acc: 0.9993 - val_loss: 0.0476 - val_acc: 0.9911\n",
      "Epoch 191/200\n",
      "33600/33600 [==============================] - 127s - loss: 0.0034 - acc: 0.9991 - val_loss: 0.0454 - val_acc: 0.9907\n",
      "Epoch 192/200\n",
      "33600/33600 [==============================] - 128s - loss: 0.0036 - acc: 0.9990 - val_loss: 0.0434 - val_acc: 0.9927\n",
      "Epoch 193/200\n",
      "33600/33600 [==============================] - 128s - loss: 0.0031 - acc: 0.9991 - val_loss: 0.0390 - val_acc: 0.9915\n",
      "Epoch 194/200\n",
      "33600/33600 [==============================] - 127s - loss: 0.0028 - acc: 0.9990 - val_loss: 0.0542 - val_acc: 0.9887\n",
      "Epoch 195/200\n",
      "33600/33600 [==============================] - 127s - loss: 0.0032 - acc: 0.9992 - val_loss: 0.0447 - val_acc: 0.9914\n",
      "Epoch 196/200\n",
      "33600/33600 [==============================] - 127s - loss: 0.0031 - acc: 0.9991 - val_loss: 0.0423 - val_acc: 0.9923\n",
      "Epoch 197/200\n",
      "33600/33600 [==============================] - 128s - loss: 0.0042 - acc: 0.9987 - val_loss: 0.0525 - val_acc: 0.9901\n",
      "Epoch 198/200\n",
      "33600/33600 [==============================] - 127s - loss: 0.0031 - acc: 0.9989 - val_loss: 0.0427 - val_acc: 0.9924\n",
      "Epoch 199/200\n",
      "33600/33600 [==============================] - 127s - loss: 0.0026 - acc: 0.9993 - val_loss: 0.0445 - val_acc: 0.9915\n",
      "Epoch 200/200\n",
      "33600/33600 [==============================] - 127s - loss: 0.0033 - acc: 0.9990 - val_loss: 0.0522 - val_acc: 0.9906\n"
     ]
    },
    {
     "data": {
      "text/plain": [
       "<keras.callbacks.History at 0x1e8803da6a0>"
      ]
     },
     "execution_count": 18,
     "metadata": {},
     "output_type": "execute_result"
    }
   ],
   "source": [
    "# learn dl model\n",
    "model.fit(X_train, y_labels, epochs=200, batch_size=2000, validation_split=0.2)"
   ]
  },
  {
   "cell_type": "code",
   "execution_count": null,
   "metadata": {
    "collapsed": true,
    "scrolled": true
   },
   "outputs": [],
   "source": []
  },
  {
   "cell_type": "markdown",
   "metadata": {
    "collapsed": false,
    "scrolled": true
   },
   "source": [
    "## Prediction test data"
   ]
  },
  {
   "cell_type": "code",
   "execution_count": 19,
   "metadata": {
    "collapsed": true,
    "scrolled": true
   },
   "outputs": [],
   "source": [
    "df_test = pd.read_csv('F:/mnist/data/test.csv')"
   ]
  },
  {
   "cell_type": "code",
   "execution_count": 20,
   "metadata": {
    "collapsed": false,
    "scrolled": true
   },
   "outputs": [],
   "source": [
    "x_test = np.array(df_test)"
   ]
  },
  {
   "cell_type": "code",
   "execution_count": 21,
   "metadata": {
    "collapsed": true,
    "scrolled": true
   },
   "outputs": [],
   "source": [
    "X_test = x_test.reshape(x_test.shape[0], 1, 28, 28).astype('float32')\n",
    "X_test = X_test / 255"
   ]
  },
  {
   "cell_type": "code",
   "execution_count": 22,
   "metadata": {
    "collapsed": false,
    "scrolled": true
   },
   "outputs": [],
   "source": [
    "# this method will take model and numpy array data\n",
    "def get_submission_df(model, data):\n",
    "    np_prediction = model.predict_classes(data)\n",
    "    \n",
    "    df_submission = pd.DataFrame()\n",
    "    df_submission['ImageId'] = list(range(1,len(np_prediction)+1))\n",
    "    df_submission['Label'] = np_prediction\n",
    "    \n",
    "    return df_submission"
   ]
  },
  {
   "cell_type": "code",
   "execution_count": 23,
   "metadata": {
    "collapsed": false,
    "scrolled": true
   },
   "outputs": [
    {
     "name": "stdout",
     "output_type": "stream",
     "text": [
      "28000/28000 [==============================] - 58s    \n"
     ]
    }
   ],
   "source": [
    "df_submission = get_submission_df(model, X_test)"
   ]
  },
  {
   "cell_type": "code",
   "execution_count": 24,
   "metadata": {
    "collapsed": true,
    "scrolled": true
   },
   "outputs": [],
   "source": [
    "df_submission.to_csv('F:/mnist/data/submission.csv', index=False)"
   ]
  },
  {
   "cell_type": "code",
   "execution_count": null,
   "metadata": {
    "collapsed": true,
    "scrolled": true
   },
   "outputs": [],
   "source": []
  }
 ],
 "metadata": {
  "anaconda-cloud": {},
  "kernelspec": {
   "display_name": "Python [conda root]",
   "language": "python",
   "name": "conda-root-py"
  },
  "language_info": {
   "codemirror_mode": {
    "name": "ipython",
    "version": 3
   },
   "file_extension": ".py",
   "mimetype": "text/x-python",
   "name": "python",
   "nbconvert_exporter": "python",
   "pygments_lexer": "ipython3",
   "version": "3.5.2"
  }
 },
 "nbformat": 4,
 "nbformat_minor": 1
}
