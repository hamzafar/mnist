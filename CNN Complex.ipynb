{
 "cells": [
  {
   "cell_type": "markdown",
   "metadata": {},
   "source": [
    "## Readind data and convert to ndarray"
   ]
  },
  {
   "cell_type": "code",
   "execution_count": 1,
   "metadata": {
    "collapsed": true,
    "scrolled": true
   },
   "outputs": [],
   "source": [
    "import pandas as pd\n",
    "import numpy as np"
   ]
  },
  {
   "cell_type": "code",
   "execution_count": 2,
   "metadata": {
    "collapsed": true
   },
   "outputs": [],
   "source": [
    "np.random.seed(10)"
   ]
  },
  {
   "cell_type": "code",
   "execution_count": 3,
   "metadata": {
    "collapsed": true,
    "scrolled": true
   },
   "outputs": [],
   "source": [
    "df_train = pd.read_csv('F:/mnist/data/train.csv')"
   ]
  },
  {
   "cell_type": "code",
   "execution_count": 4,
   "metadata": {
    "collapsed": false,
    "scrolled": true
   },
   "outputs": [
    {
     "name": "stdout",
     "output_type": "stream",
     "text": [
      "42000\n"
     ]
    },
    {
     "data": {
      "text/html": [
       "<div>\n",
       "<table border=\"1\" class=\"dataframe\">\n",
       "  <thead>\n",
       "    <tr style=\"text-align: right;\">\n",
       "      <th></th>\n",
       "      <th>label</th>\n",
       "      <th>pixel0</th>\n",
       "      <th>pixel1</th>\n",
       "      <th>pixel2</th>\n",
       "      <th>pixel3</th>\n",
       "      <th>pixel4</th>\n",
       "      <th>pixel5</th>\n",
       "      <th>pixel6</th>\n",
       "      <th>pixel7</th>\n",
       "      <th>pixel8</th>\n",
       "      <th>...</th>\n",
       "      <th>pixel774</th>\n",
       "      <th>pixel775</th>\n",
       "      <th>pixel776</th>\n",
       "      <th>pixel777</th>\n",
       "      <th>pixel778</th>\n",
       "      <th>pixel779</th>\n",
       "      <th>pixel780</th>\n",
       "      <th>pixel781</th>\n",
       "      <th>pixel782</th>\n",
       "      <th>pixel783</th>\n",
       "    </tr>\n",
       "  </thead>\n",
       "  <tbody>\n",
       "    <tr>\n",
       "      <th>0</th>\n",
       "      <td>1</td>\n",
       "      <td>0</td>\n",
       "      <td>0</td>\n",
       "      <td>0</td>\n",
       "      <td>0</td>\n",
       "      <td>0</td>\n",
       "      <td>0</td>\n",
       "      <td>0</td>\n",
       "      <td>0</td>\n",
       "      <td>0</td>\n",
       "      <td>...</td>\n",
       "      <td>0</td>\n",
       "      <td>0</td>\n",
       "      <td>0</td>\n",
       "      <td>0</td>\n",
       "      <td>0</td>\n",
       "      <td>0</td>\n",
       "      <td>0</td>\n",
       "      <td>0</td>\n",
       "      <td>0</td>\n",
       "      <td>0</td>\n",
       "    </tr>\n",
       "    <tr>\n",
       "      <th>1</th>\n",
       "      <td>0</td>\n",
       "      <td>0</td>\n",
       "      <td>0</td>\n",
       "      <td>0</td>\n",
       "      <td>0</td>\n",
       "      <td>0</td>\n",
       "      <td>0</td>\n",
       "      <td>0</td>\n",
       "      <td>0</td>\n",
       "      <td>0</td>\n",
       "      <td>...</td>\n",
       "      <td>0</td>\n",
       "      <td>0</td>\n",
       "      <td>0</td>\n",
       "      <td>0</td>\n",
       "      <td>0</td>\n",
       "      <td>0</td>\n",
       "      <td>0</td>\n",
       "      <td>0</td>\n",
       "      <td>0</td>\n",
       "      <td>0</td>\n",
       "    </tr>\n",
       "    <tr>\n",
       "      <th>2</th>\n",
       "      <td>1</td>\n",
       "      <td>0</td>\n",
       "      <td>0</td>\n",
       "      <td>0</td>\n",
       "      <td>0</td>\n",
       "      <td>0</td>\n",
       "      <td>0</td>\n",
       "      <td>0</td>\n",
       "      <td>0</td>\n",
       "      <td>0</td>\n",
       "      <td>...</td>\n",
       "      <td>0</td>\n",
       "      <td>0</td>\n",
       "      <td>0</td>\n",
       "      <td>0</td>\n",
       "      <td>0</td>\n",
       "      <td>0</td>\n",
       "      <td>0</td>\n",
       "      <td>0</td>\n",
       "      <td>0</td>\n",
       "      <td>0</td>\n",
       "    </tr>\n",
       "    <tr>\n",
       "      <th>3</th>\n",
       "      <td>4</td>\n",
       "      <td>0</td>\n",
       "      <td>0</td>\n",
       "      <td>0</td>\n",
       "      <td>0</td>\n",
       "      <td>0</td>\n",
       "      <td>0</td>\n",
       "      <td>0</td>\n",
       "      <td>0</td>\n",
       "      <td>0</td>\n",
       "      <td>...</td>\n",
       "      <td>0</td>\n",
       "      <td>0</td>\n",
       "      <td>0</td>\n",
       "      <td>0</td>\n",
       "      <td>0</td>\n",
       "      <td>0</td>\n",
       "      <td>0</td>\n",
       "      <td>0</td>\n",
       "      <td>0</td>\n",
       "      <td>0</td>\n",
       "    </tr>\n",
       "    <tr>\n",
       "      <th>4</th>\n",
       "      <td>0</td>\n",
       "      <td>0</td>\n",
       "      <td>0</td>\n",
       "      <td>0</td>\n",
       "      <td>0</td>\n",
       "      <td>0</td>\n",
       "      <td>0</td>\n",
       "      <td>0</td>\n",
       "      <td>0</td>\n",
       "      <td>0</td>\n",
       "      <td>...</td>\n",
       "      <td>0</td>\n",
       "      <td>0</td>\n",
       "      <td>0</td>\n",
       "      <td>0</td>\n",
       "      <td>0</td>\n",
       "      <td>0</td>\n",
       "      <td>0</td>\n",
       "      <td>0</td>\n",
       "      <td>0</td>\n",
       "      <td>0</td>\n",
       "    </tr>\n",
       "  </tbody>\n",
       "</table>\n",
       "<p>5 rows × 785 columns</p>\n",
       "</div>"
      ],
      "text/plain": [
       "   label  pixel0  pixel1  pixel2  pixel3  pixel4  pixel5  pixel6  pixel7  \\\n",
       "0      1       0       0       0       0       0       0       0       0   \n",
       "1      0       0       0       0       0       0       0       0       0   \n",
       "2      1       0       0       0       0       0       0       0       0   \n",
       "3      4       0       0       0       0       0       0       0       0   \n",
       "4      0       0       0       0       0       0       0       0       0   \n",
       "\n",
       "   pixel8    ...     pixel774  pixel775  pixel776  pixel777  pixel778  \\\n",
       "0       0    ...            0         0         0         0         0   \n",
       "1       0    ...            0         0         0         0         0   \n",
       "2       0    ...            0         0         0         0         0   \n",
       "3       0    ...            0         0         0         0         0   \n",
       "4       0    ...            0         0         0         0         0   \n",
       "\n",
       "   pixel779  pixel780  pixel781  pixel782  pixel783  \n",
       "0         0         0         0         0         0  \n",
       "1         0         0         0         0         0  \n",
       "2         0         0         0         0         0  \n",
       "3         0         0         0         0         0  \n",
       "4         0         0         0         0         0  \n",
       "\n",
       "[5 rows x 785 columns]"
      ]
     },
     "execution_count": 4,
     "metadata": {},
     "output_type": "execute_result"
    }
   ],
   "source": [
    "tmp_df = df_train\n",
    "print(len(tmp_df))\n",
    "tmp_df.head()"
   ]
  },
  {
   "cell_type": "code",
   "execution_count": 5,
   "metadata": {
    "collapsed": false,
    "scrolled": true
   },
   "outputs": [],
   "source": [
    "x_train = np.array(tmp_df.ix[:,1:785])\n",
    "y_train = np.array(tmp_df.ix[:,0])"
   ]
  },
  {
   "cell_type": "code",
   "execution_count": 6,
   "metadata": {
    "collapsed": false,
    "scrolled": true
   },
   "outputs": [
    {
     "name": "stderr",
     "output_type": "stream",
     "text": [
      "Using TensorFlow backend.\n"
     ]
    }
   ],
   "source": [
    "import keras"
   ]
  },
  {
   "cell_type": "code",
   "execution_count": 7,
   "metadata": {
    "collapsed": true,
    "scrolled": true
   },
   "outputs": [],
   "source": [
    "y_labels = keras.utils.to_categorical(y_train, num_classes=10)"
   ]
  },
  {
   "cell_type": "code",
   "execution_count": null,
   "metadata": {
    "collapsed": true
   },
   "outputs": [],
   "source": []
  },
  {
   "cell_type": "markdown",
   "metadata": {},
   "source": [
    "## Play with given data set (mnist)"
   ]
  },
  {
   "cell_type": "code",
   "execution_count": 8,
   "metadata": {
    "collapsed": true
   },
   "outputs": [],
   "source": [
    "from keras.datasets import mnist"
   ]
  },
  {
   "cell_type": "code",
   "execution_count": 9,
   "metadata": {
    "collapsed": false
   },
   "outputs": [],
   "source": [
    "# load data\n",
    "# (X_train, y_train), (X_test, y_test) = mnist.load_data()"
   ]
  },
  {
   "cell_type": "code",
   "execution_count": null,
   "metadata": {
    "collapsed": true
   },
   "outputs": [],
   "source": []
  },
  {
   "cell_type": "markdown",
   "metadata": {},
   "source": [
    "## Call the sequential model"
   ]
  },
  {
   "cell_type": "code",
   "execution_count": 10,
   "metadata": {
    "collapsed": false,
    "scrolled": true
   },
   "outputs": [],
   "source": [
    "from keras.models import Sequential\n",
    "\n",
    "from keras.layers import Dense\n",
    "from keras.layers import Dropout\n",
    "from keras.layers import Flatten\n",
    "from keras.layers.convolutional import Conv2D\n",
    "from keras.layers.convolutional import MaxPooling2D\n",
    "from keras.utils import np_utils\n",
    "from keras import backend as K\n",
    "K.set_image_dim_ordering('th')"
   ]
  },
  {
   "cell_type": "code",
   "execution_count": 11,
   "metadata": {
    "collapsed": true,
    "scrolled": true
   },
   "outputs": [],
   "source": [
    "# call cnn layers\n",
    "from keras.layers import Dense, Activation"
   ]
  },
  {
   "cell_type": "code",
   "execution_count": 12,
   "metadata": {
    "collapsed": true
   },
   "outputs": [],
   "source": [
    "num_classes = 10"
   ]
  },
  {
   "cell_type": "code",
   "execution_count": 13,
   "metadata": {
    "collapsed": false
   },
   "outputs": [],
   "source": [
    "X_train = x_train.reshape(x_train.shape[0], 1, 28, 28).astype('float32')\n",
    "X_train = X_train / 255"
   ]
  },
  {
   "cell_type": "code",
   "execution_count": 14,
   "metadata": {
    "collapsed": false,
    "scrolled": true
   },
   "outputs": [],
   "source": [
    "def init_model():\n",
    "    model = Sequential()\n",
    "    model.add(Dense(units=num_classes, input_dim=784))\n",
    "    model.add(Activation('relu'))\n",
    "    model.add(Dense(units=10))\n",
    "\n",
    "    model.add(Activation('softmax'))\n",
    "\n",
    "    model.compile(loss='categorical_crossentropy',\n",
    "                  optimizer='rmsprop',\n",
    "                  metrics=['accuracy'])\n",
    "    \n",
    "    return model"
   ]
  },
  {
   "cell_type": "code",
   "execution_count": 15,
   "metadata": {
    "collapsed": true
   },
   "outputs": [],
   "source": [
    "def baseline_model():\n",
    "# create model\n",
    "    model = Sequential()\n",
    "    model.add(Conv2D(32, (5, 5), input_shape=(1, 28, 28), activation='relu'))\n",
    "    model.add(MaxPooling2D(pool_size=(2, 2)))\n",
    "    model.add(Dropout(0.2))\n",
    "    model.add(Flatten())\n",
    "    model.add(Dense(128, activation='relu'))\n",
    "    model.add(Dense(num_classes, activation='softmax'))\n",
    "    # Compile model\n",
    "    model.compile(loss='categorical_crossentropy', optimizer='adam', metrics=['accuracy'])\n",
    "    return model"
   ]
  },
  {
   "cell_type": "code",
   "execution_count": 16,
   "metadata": {
    "collapsed": true
   },
   "outputs": [],
   "source": [
    "# define the larger model\n",
    "def larger_model():\n",
    "# create model\n",
    "    model = Sequential()\n",
    "    model.add(Conv2D(30, (5, 5), input_shape=(1, 28, 28), activation='relu'))\n",
    "    model.add(MaxPooling2D(pool_size=(2, 2)))\n",
    "    model.add(Conv2D(15, (3, 3), activation='relu'))\n",
    "    model.add(MaxPooling2D(pool_size=(2, 2)))\n",
    "    model.add(Dropout(0.2))\n",
    "    model.add(Flatten())\n",
    "    model.add(Dense(128, activation='relu'))\n",
    "    model.add(Dense(50, activation='relu'))\n",
    "    model.add(Dense(num_classes, activation='softmax'))\n",
    "    # Compile model\n",
    "    model.compile(loss='categorical_crossentropy', optimizer='adam', metrics=['accuracy'])\n",
    "    return model"
   ]
  },
  {
   "cell_type": "code",
   "execution_count": 17,
   "metadata": {
    "collapsed": false
   },
   "outputs": [],
   "source": [
    "model = larger_model()"
   ]
  },
  {
   "cell_type": "code",
   "execution_count": 18,
   "metadata": {
    "collapsed": false,
    "scrolled": false
   },
   "outputs": [
    {
     "name": "stdout",
     "output_type": "stream",
     "text": [
      "Train on 33600 samples, validate on 8400 samples\n",
      "Epoch 1/100\n",
      "33600/33600 [==============================] - 129s - loss: 1.5190 - acc: 0.5370 - val_loss: 0.4537 - val_acc: 0.8667\n",
      "Epoch 2/100\n",
      "33600/33600 [==============================] - 131s - loss: 0.3782 - acc: 0.8832 - val_loss: 0.2080 - val_acc: 0.9393\n",
      "Epoch 3/100\n",
      "33600/33600 [==============================] - 131s - loss: 0.2192 - acc: 0.9334 - val_loss: 0.1382 - val_acc: 0.9606\n",
      "Epoch 4/100\n",
      "33600/33600 [==============================] - 132s - loss: 0.1617 - acc: 0.9512 - val_loss: 0.1044 - val_acc: 0.9690\n",
      "Epoch 5/100\n",
      "33600/33600 [==============================] - 132s - loss: 0.1300 - acc: 0.9613 - val_loss: 0.0860 - val_acc: 0.9733\n",
      "Epoch 6/100\n",
      "33600/33600 [==============================] - 132s - loss: 0.1094 - acc: 0.9675 - val_loss: 0.0756 - val_acc: 0.9755\n",
      "Epoch 7/100\n",
      "33600/33600 [==============================] - 132s - loss: 0.0946 - acc: 0.9712 - val_loss: 0.0684 - val_acc: 0.9776\n",
      "Epoch 8/100\n",
      "33600/33600 [==============================] - 134s - loss: 0.0845 - acc: 0.9734 - val_loss: 0.0678 - val_acc: 0.9786\n",
      "Epoch 9/100\n",
      "33600/33600 [==============================] - 131s - loss: 0.0763 - acc: 0.9760 - val_loss: 0.0580 - val_acc: 0.9821\n",
      "Epoch 10/100\n",
      "33600/33600 [==============================] - 132s - loss: 0.0694 - acc: 0.9788 - val_loss: 0.0540 - val_acc: 0.9819\n",
      "Epoch 11/100\n",
      "33600/33600 [==============================] - 133s - loss: 0.0658 - acc: 0.9800 - val_loss: 0.0504 - val_acc: 0.9819\n",
      "Epoch 12/100\n",
      "33600/33600 [==============================] - 132s - loss: 0.0623 - acc: 0.9811 - val_loss: 0.0451 - val_acc: 0.9851\n",
      "Epoch 13/100\n",
      "33600/33600 [==============================] - 132s - loss: 0.0571 - acc: 0.9821 - val_loss: 0.0436 - val_acc: 0.9862\n",
      "Epoch 14/100\n",
      "33600/33600 [==============================] - 131s - loss: 0.0538 - acc: 0.9828 - val_loss: 0.0417 - val_acc: 0.9863\n",
      "Epoch 15/100\n",
      "33600/33600 [==============================] - 132s - loss: 0.0499 - acc: 0.9847 - val_loss: 0.0395 - val_acc: 0.9879\n",
      "Epoch 16/100\n",
      "33600/33600 [==============================] - 132s - loss: 0.0473 - acc: 0.9847 - val_loss: 0.0414 - val_acc: 0.9857\n",
      "Epoch 17/100\n",
      "33600/33600 [==============================] - 132s - loss: 0.0460 - acc: 0.9857 - val_loss: 0.0388 - val_acc: 0.9867\n",
      "Epoch 18/100\n",
      "33600/33600 [==============================] - 131s - loss: 0.0421 - acc: 0.9863 - val_loss: 0.0354 - val_acc: 0.9892\n",
      "Epoch 19/100\n",
      "33600/33600 [==============================] - 132s - loss: 0.0402 - acc: 0.9879 - val_loss: 0.0368 - val_acc: 0.9876\n",
      "Epoch 20/100\n",
      "33600/33600 [==============================] - 132s - loss: 0.0403 - acc: 0.9871 - val_loss: 0.0340 - val_acc: 0.9886\n",
      "Epoch 21/100\n",
      "33600/33600 [==============================] - 131s - loss: 0.0366 - acc: 0.9879 - val_loss: 0.0356 - val_acc: 0.9886\n",
      "Epoch 22/100\n",
      "33600/33600 [==============================] - 132s - loss: 0.0372 - acc: 0.9885 - val_loss: 0.0375 - val_acc: 0.9871\n",
      "Epoch 23/100\n",
      "33600/33600 [==============================] - 132s - loss: 0.0338 - acc: 0.9892 - val_loss: 0.0351 - val_acc: 0.9888\n",
      "Epoch 24/100\n",
      "33600/33600 [==============================] - 131s - loss: 0.0338 - acc: 0.9896 - val_loss: 0.0330 - val_acc: 0.9889\n",
      "Epoch 25/100\n",
      "33600/33600 [==============================] - 132s - loss: 0.0315 - acc: 0.9898 - val_loss: 0.0345 - val_acc: 0.9887\n",
      "Epoch 26/100\n",
      "33600/33600 [==============================] - 131s - loss: 0.0308 - acc: 0.9904 - val_loss: 0.0321 - val_acc: 0.9896\n",
      "Epoch 27/100\n",
      "33600/33600 [==============================] - 131s - loss: 0.0289 - acc: 0.9906 - val_loss: 0.0316 - val_acc: 0.9900\n",
      "Epoch 28/100\n",
      "33600/33600 [==============================] - 131s - loss: 0.0275 - acc: 0.9912 - val_loss: 0.0361 - val_acc: 0.9889\n",
      "Epoch 29/100\n",
      "33600/33600 [==============================] - 131s - loss: 0.0276 - acc: 0.9913 - val_loss: 0.0332 - val_acc: 0.9894\n",
      "Epoch 30/100\n",
      "33600/33600 [==============================] - 131s - loss: 0.0276 - acc: 0.9904 - val_loss: 0.0368 - val_acc: 0.9883\n",
      "Epoch 31/100\n",
      "33600/33600 [==============================] - 132s - loss: 0.0270 - acc: 0.9914 - val_loss: 0.0311 - val_acc: 0.9902\n",
      "Epoch 32/100\n",
      "33600/33600 [==============================] - 132s - loss: 0.0224 - acc: 0.9929 - val_loss: 0.0318 - val_acc: 0.9902\n",
      "Epoch 33/100\n",
      "33600/33600 [==============================] - 132s - loss: 0.0244 - acc: 0.9919 - val_loss: 0.0313 - val_acc: 0.9902\n",
      "Epoch 34/100\n",
      "33600/33600 [==============================] - 132s - loss: 0.0241 - acc: 0.9922 - val_loss: 0.0306 - val_acc: 0.9910\n",
      "Epoch 35/100\n",
      "33600/33600 [==============================] - 132s - loss: 0.0225 - acc: 0.9932 - val_loss: 0.0316 - val_acc: 0.9902\n",
      "Epoch 36/100\n",
      "33600/33600 [==============================] - 132s - loss: 0.0224 - acc: 0.9925 - val_loss: 0.0305 - val_acc: 0.9905\n",
      "Epoch 37/100\n",
      "33600/33600 [==============================] - 131s - loss: 0.0208 - acc: 0.9931 - val_loss: 0.0292 - val_acc: 0.9908\n",
      "Epoch 38/100\n",
      "33600/33600 [==============================] - 132s - loss: 0.0205 - acc: 0.9932 - val_loss: 0.0299 - val_acc: 0.9912\n",
      "Epoch 39/100\n",
      "33600/33600 [==============================] - 132s - loss: 0.0205 - acc: 0.9932 - val_loss: 0.0315 - val_acc: 0.9906\n",
      "Epoch 40/100\n",
      "33600/33600 [==============================] - 132s - loss: 0.0183 - acc: 0.9937 - val_loss: 0.0309 - val_acc: 0.9901\n",
      "Epoch 41/100\n",
      "33600/33600 [==============================] - 132s - loss: 0.0176 - acc: 0.9943 - val_loss: 0.0354 - val_acc: 0.9894\n",
      "Epoch 42/100\n",
      "33600/33600 [==============================] - 131s - loss: 0.0185 - acc: 0.9935 - val_loss: 0.0305 - val_acc: 0.9905\n",
      "Epoch 43/100\n",
      "33600/33600 [==============================] - 131s - loss: 0.0166 - acc: 0.9947 - val_loss: 0.0332 - val_acc: 0.9900\n",
      "Epoch 44/100\n",
      "33600/33600 [==============================] - 131s - loss: 0.0155 - acc: 0.9947 - val_loss: 0.0323 - val_acc: 0.9913\n",
      "Epoch 45/100\n",
      "33600/33600 [==============================] - 131s - loss: 0.0169 - acc: 0.9941 - val_loss: 0.0310 - val_acc: 0.9908\n",
      "Epoch 46/100\n",
      "33600/33600 [==============================] - 131s - loss: 0.0164 - acc: 0.9945 - val_loss: 0.0299 - val_acc: 0.9915\n",
      "Epoch 47/100\n",
      "33600/33600 [==============================] - 132s - loss: 0.0146 - acc: 0.9952 - val_loss: 0.0310 - val_acc: 0.9914\n",
      "Epoch 48/100\n",
      "33600/33600 [==============================] - 132s - loss: 0.0141 - acc: 0.9951 - val_loss: 0.0326 - val_acc: 0.9905\n",
      "Epoch 49/100\n",
      "33600/33600 [==============================] - 132s - loss: 0.0171 - acc: 0.9946 - val_loss: 0.0352 - val_acc: 0.9905\n",
      "Epoch 50/100\n",
      "33600/33600 [==============================] - 132s - loss: 0.0138 - acc: 0.9957 - val_loss: 0.0316 - val_acc: 0.9911\n",
      "Epoch 51/100\n",
      "33600/33600 [==============================] - 131s - loss: 0.0128 - acc: 0.9958 - val_loss: 0.0308 - val_acc: 0.9914\n",
      "Epoch 52/100\n",
      "33600/33600 [==============================] - 132s - loss: 0.0133 - acc: 0.9954 - val_loss: 0.0325 - val_acc: 0.9912\n",
      "Epoch 53/100\n",
      "33600/33600 [==============================] - 132s - loss: 0.0125 - acc: 0.9959 - val_loss: 0.0301 - val_acc: 0.9915\n",
      "Epoch 54/100\n",
      "33600/33600 [==============================] - 131s - loss: 0.0132 - acc: 0.9955 - val_loss: 0.0332 - val_acc: 0.9908\n",
      "Epoch 55/100\n",
      "33600/33600 [==============================] - 132s - loss: 0.0120 - acc: 0.9960 - val_loss: 0.0351 - val_acc: 0.9907\n",
      "Epoch 56/100\n",
      "33600/33600 [==============================] - 133s - loss: 0.0131 - acc: 0.9961 - val_loss: 0.0357 - val_acc: 0.9905\n",
      "Epoch 57/100\n",
      "33600/33600 [==============================] - 132s - loss: 0.0121 - acc: 0.9961 - val_loss: 0.0338 - val_acc: 0.9921\n",
      "Epoch 58/100\n",
      "33600/33600 [==============================] - 131s - loss: 0.0125 - acc: 0.9959 - val_loss: 0.0343 - val_acc: 0.9912\n",
      "Epoch 59/100\n",
      "33600/33600 [==============================] - 132s - loss: 0.0110 - acc: 0.9963 - val_loss: 0.0329 - val_acc: 0.9914\n",
      "Epoch 60/100\n",
      "33600/33600 [==============================] - 132s - loss: 0.0104 - acc: 0.9966 - val_loss: 0.0354 - val_acc: 0.9910\n",
      "Epoch 61/100\n",
      "33600/33600 [==============================] - 132s - loss: 0.0099 - acc: 0.9966 - val_loss: 0.0343 - val_acc: 0.9911\n",
      "Epoch 62/100\n",
      "33600/33600 [==============================] - 132s - loss: 0.0107 - acc: 0.9966 - val_loss: 0.0363 - val_acc: 0.9910\n",
      "Epoch 63/100\n",
      "33600/33600 [==============================] - 132s - loss: 0.0100 - acc: 0.9967 - val_loss: 0.0350 - val_acc: 0.9920\n",
      "Epoch 64/100\n",
      "33600/33600 [==============================] - 131s - loss: 0.0101 - acc: 0.9965 - val_loss: 0.0347 - val_acc: 0.9915\n",
      "Epoch 65/100\n",
      "33600/33600 [==============================] - 132s - loss: 0.0101 - acc: 0.9965 - val_loss: 0.0329 - val_acc: 0.9921\n",
      "Epoch 66/100\n",
      "33600/33600 [==============================] - 132s - loss: 0.0103 - acc: 0.9967 - val_loss: 0.0337 - val_acc: 0.9914\n",
      "Epoch 67/100\n",
      "33600/33600 [==============================] - 131s - loss: 0.0096 - acc: 0.9969 - val_loss: 0.0329 - val_acc: 0.9914\n",
      "Epoch 68/100\n",
      "33600/33600 [==============================] - 132s - loss: 0.0086 - acc: 0.9976 - val_loss: 0.0338 - val_acc: 0.9913\n",
      "Epoch 69/100\n",
      "33600/33600 [==============================] - 132s - loss: 0.0084 - acc: 0.9971 - val_loss: 0.0350 - val_acc: 0.9918\n",
      "Epoch 70/100\n",
      "33600/33600 [==============================] - 132s - loss: 0.0089 - acc: 0.9974 - val_loss: 0.0341 - val_acc: 0.9915\n",
      "Epoch 71/100\n",
      "33600/33600 [==============================] - 135s - loss: 0.0082 - acc: 0.9975 - val_loss: 0.0332 - val_acc: 0.9915\n",
      "Epoch 72/100\n",
      "33600/33600 [==============================] - 135s - loss: 0.0104 - acc: 0.9967 - val_loss: 0.0360 - val_acc: 0.9918\n",
      "Epoch 73/100\n",
      "33600/33600 [==============================] - 132s - loss: 0.0096 - acc: 0.9970 - val_loss: 0.0390 - val_acc: 0.9913\n",
      "Epoch 74/100\n",
      "33600/33600 [==============================] - 129s - loss: 0.0089 - acc: 0.9972 - val_loss: 0.0347 - val_acc: 0.9921\n",
      "Epoch 75/100\n",
      "33600/33600 [==============================] - 131s - loss: 0.0085 - acc: 0.9971 - val_loss: 0.0321 - val_acc: 0.9920\n",
      "Epoch 76/100\n",
      "33600/33600 [==============================] - 130s - loss: 0.0084 - acc: 0.9971 - val_loss: 0.0356 - val_acc: 0.9908\n",
      "Epoch 77/100\n",
      "33600/33600 [==============================] - 129s - loss: 0.0082 - acc: 0.9974 - val_loss: 0.0339 - val_acc: 0.9925\n",
      "Epoch 78/100\n",
      "33600/33600 [==============================] - 129s - loss: 0.0084 - acc: 0.9974 - val_loss: 0.0345 - val_acc: 0.9924\n",
      "Epoch 79/100\n",
      "33600/33600 [==============================] - 128s - loss: 0.0078 - acc: 0.9976 - val_loss: 0.0357 - val_acc: 0.9925\n",
      "Epoch 80/100\n",
      "33600/33600 [==============================] - 129s - loss: 0.0076 - acc: 0.9974 - val_loss: 0.0337 - val_acc: 0.9931\n",
      "Epoch 81/100\n",
      "33600/33600 [==============================] - 129s - loss: 0.0075 - acc: 0.9977 - val_loss: 0.0354 - val_acc: 0.9920\n",
      "Epoch 82/100\n",
      "33600/33600 [==============================] - 128s - loss: 0.0079 - acc: 0.9973 - val_loss: 0.0373 - val_acc: 0.9917\n",
      "Epoch 83/100\n",
      "33600/33600 [==============================] - 128s - loss: 0.0080 - acc: 0.9973 - val_loss: 0.0384 - val_acc: 0.9911\n",
      "Epoch 84/100\n",
      "33600/33600 [==============================] - 128s - loss: 0.0090 - acc: 0.9970 - val_loss: 0.0387 - val_acc: 0.9912\n",
      "Epoch 85/100\n",
      "33600/33600 [==============================] - 3680s - loss: 0.0083 - acc: 0.9975 - val_loss: 0.0362 - val_acc: 0.9920\n",
      "Epoch 86/100\n",
      "33600/33600 [==============================] - 133s - loss: 0.0060 - acc: 0.9981 - val_loss: 0.0317 - val_acc: 0.9932\n",
      "Epoch 87/100\n",
      "33600/33600 [==============================] - 155s - loss: 0.0071 - acc: 0.9979 - val_loss: 0.0372 - val_acc: 0.9918\n",
      "Epoch 88/100\n",
      "33600/33600 [==============================] - 186s - loss: 0.0075 - acc: 0.9979 - val_loss: 0.0358 - val_acc: 0.9926\n",
      "Epoch 89/100\n",
      "33600/33600 [==============================] - 186s - loss: 0.0070 - acc: 0.9975 - val_loss: 0.0338 - val_acc: 0.9930\n",
      "Epoch 90/100\n",
      "33600/33600 [==============================] - 187s - loss: 0.0071 - acc: 0.9976 - val_loss: 0.0374 - val_acc: 0.9917\n",
      "Epoch 91/100\n",
      "33600/33600 [==============================] - 191s - loss: 0.0076 - acc: 0.9974 - val_loss: 0.0339 - val_acc: 0.9924\n",
      "Epoch 92/100\n",
      "33600/33600 [==============================] - 186s - loss: 0.0059 - acc: 0.9982 - val_loss: 0.0320 - val_acc: 0.9931\n",
      "Epoch 93/100\n",
      "33600/33600 [==============================] - 160s - loss: 0.0058 - acc: 0.9979 - val_loss: 0.0357 - val_acc: 0.9926\n",
      "Epoch 94/100\n",
      "33600/33600 [==============================] - 153s - loss: 0.0067 - acc: 0.9977 - val_loss: 0.0324 - val_acc: 0.9927\n",
      "Epoch 95/100\n",
      "33600/33600 [==============================] - 148s - loss: 0.0051 - acc: 0.9983 - val_loss: 0.0362 - val_acc: 0.9921\n",
      "Epoch 96/100\n",
      "33600/33600 [==============================] - 150s - loss: 0.0050 - acc: 0.9986 - val_loss: 0.0323 - val_acc: 0.9937\n",
      "Epoch 97/100\n",
      "33600/33600 [==============================] - 153s - loss: 0.0068 - acc: 0.9976 - val_loss: 0.0342 - val_acc: 0.9929\n",
      "Epoch 98/100\n",
      "33600/33600 [==============================] - 150s - loss: 0.0060 - acc: 0.9984 - val_loss: 0.0375 - val_acc: 0.9914\n",
      "Epoch 99/100\n",
      "33600/33600 [==============================] - 140s - loss: 0.0057 - acc: 0.9982 - val_loss: 0.0388 - val_acc: 0.9919\n",
      "Epoch 100/100\n",
      "33600/33600 [==============================] - 132s - loss: 0.0071 - acc: 0.9977 - val_loss: 0.0362 - val_acc: 0.9920\n"
     ]
    },
    {
     "data": {
      "text/plain": [
       "<keras.callbacks.History at 0x1566fdd0c50>"
      ]
     },
     "execution_count": 18,
     "metadata": {},
     "output_type": "execute_result"
    }
   ],
   "source": [
    "# learn dl model\n",
    "model.fit(X_train, y_labels, epochs=100, batch_size=1000, validation_split=0.2)"
   ]
  },
  {
   "cell_type": "code",
   "execution_count": null,
   "metadata": {
    "collapsed": true
   },
   "outputs": [],
   "source": []
  },
  {
   "cell_type": "markdown",
   "metadata": {
    "collapsed": false,
    "scrolled": true
   },
   "source": [
    "## Prediction test data"
   ]
  },
  {
   "cell_type": "code",
   "execution_count": 19,
   "metadata": {
    "collapsed": true
   },
   "outputs": [],
   "source": [
    "df_test = pd.read_csv('F:/mnist/data/test.csv')"
   ]
  },
  {
   "cell_type": "code",
   "execution_count": 20,
   "metadata": {
    "collapsed": false
   },
   "outputs": [],
   "source": [
    "x_test = np.array(df_test)"
   ]
  },
  {
   "cell_type": "code",
   "execution_count": 21,
   "metadata": {
    "collapsed": true
   },
   "outputs": [],
   "source": [
    "X_test = x_test.reshape(x_test.shape[0], 1, 28, 28).astype('float32')\n",
    "X_test = X_test / 255"
   ]
  },
  {
   "cell_type": "code",
   "execution_count": 22,
   "metadata": {
    "collapsed": false
   },
   "outputs": [],
   "source": [
    "# this method will take model and numpy array data\n",
    "def get_submission_df(model, data):\n",
    "    np_prediction = model.predict_classes(data)\n",
    "    \n",
    "    df_submission = pd.DataFrame()\n",
    "    df_submission['ImageId'] = list(range(1,len(np_prediction)+1))\n",
    "    df_submission['Label'] = np_prediction\n",
    "    \n",
    "    return df_submission"
   ]
  },
  {
   "cell_type": "code",
   "execution_count": 23,
   "metadata": {
    "collapsed": false
   },
   "outputs": [
    {
     "name": "stdout",
     "output_type": "stream",
     "text": [
      "28000/28000 [==============================] - 62s    \n"
     ]
    }
   ],
   "source": [
    "df_submission = get_submission_df(model, X_test)"
   ]
  },
  {
   "cell_type": "code",
   "execution_count": 24,
   "metadata": {
    "collapsed": true
   },
   "outputs": [],
   "source": [
    "df_submission.to_csv('F:/mnist/data/submission.csv', index=False)"
   ]
  },
  {
   "cell_type": "code",
   "execution_count": null,
   "metadata": {
    "collapsed": true
   },
   "outputs": [],
   "source": []
  }
 ],
 "metadata": {
  "anaconda-cloud": {},
  "kernelspec": {
   "display_name": "Python [conda root]",
   "language": "python",
   "name": "conda-root-py"
  },
  "language_info": {
   "codemirror_mode": {
    "name": "ipython",
    "version": 3
   },
   "file_extension": ".py",
   "mimetype": "text/x-python",
   "name": "python",
   "nbconvert_exporter": "python",
   "pygments_lexer": "ipython3",
   "version": "3.5.2"
  }
 },
 "nbformat": 4,
 "nbformat_minor": 1
}
