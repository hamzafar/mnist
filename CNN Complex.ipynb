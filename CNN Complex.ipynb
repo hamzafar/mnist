{
 "cells": [
  {
   "cell_type": "markdown",
   "metadata": {},
   "source": [
    "## Readind data and convert to ndarray"
   ]
  },
  {
   "cell_type": "code",
   "execution_count": 1,
   "metadata": {
    "collapsed": true,
    "scrolled": true
   },
   "outputs": [],
   "source": [
    "import pandas as pd\n",
    "import numpy as np"
   ]
  },
  {
   "cell_type": "code",
   "execution_count": 2,
   "metadata": {
    "collapsed": true,
    "scrolled": true
   },
   "outputs": [],
   "source": [
    "df_train = pd.read_csv('F:/mnist/data/train.csv')"
   ]
  },
  {
   "cell_type": "code",
   "execution_count": 3,
   "metadata": {
    "collapsed": false,
    "scrolled": true
   },
   "outputs": [
    {
     "name": "stdout",
     "output_type": "stream",
     "text": [
      "42000\n"
     ]
    },
    {
     "data": {
      "text/html": [
       "<div>\n",
       "<table border=\"1\" class=\"dataframe\">\n",
       "  <thead>\n",
       "    <tr style=\"text-align: right;\">\n",
       "      <th></th>\n",
       "      <th>label</th>\n",
       "      <th>pixel0</th>\n",
       "      <th>pixel1</th>\n",
       "      <th>pixel2</th>\n",
       "      <th>pixel3</th>\n",
       "      <th>pixel4</th>\n",
       "      <th>pixel5</th>\n",
       "      <th>pixel6</th>\n",
       "      <th>pixel7</th>\n",
       "      <th>pixel8</th>\n",
       "      <th>...</th>\n",
       "      <th>pixel774</th>\n",
       "      <th>pixel775</th>\n",
       "      <th>pixel776</th>\n",
       "      <th>pixel777</th>\n",
       "      <th>pixel778</th>\n",
       "      <th>pixel779</th>\n",
       "      <th>pixel780</th>\n",
       "      <th>pixel781</th>\n",
       "      <th>pixel782</th>\n",
       "      <th>pixel783</th>\n",
       "    </tr>\n",
       "  </thead>\n",
       "  <tbody>\n",
       "    <tr>\n",
       "      <th>0</th>\n",
       "      <td>1</td>\n",
       "      <td>0</td>\n",
       "      <td>0</td>\n",
       "      <td>0</td>\n",
       "      <td>0</td>\n",
       "      <td>0</td>\n",
       "      <td>0</td>\n",
       "      <td>0</td>\n",
       "      <td>0</td>\n",
       "      <td>0</td>\n",
       "      <td>...</td>\n",
       "      <td>0</td>\n",
       "      <td>0</td>\n",
       "      <td>0</td>\n",
       "      <td>0</td>\n",
       "      <td>0</td>\n",
       "      <td>0</td>\n",
       "      <td>0</td>\n",
       "      <td>0</td>\n",
       "      <td>0</td>\n",
       "      <td>0</td>\n",
       "    </tr>\n",
       "    <tr>\n",
       "      <th>1</th>\n",
       "      <td>0</td>\n",
       "      <td>0</td>\n",
       "      <td>0</td>\n",
       "      <td>0</td>\n",
       "      <td>0</td>\n",
       "      <td>0</td>\n",
       "      <td>0</td>\n",
       "      <td>0</td>\n",
       "      <td>0</td>\n",
       "      <td>0</td>\n",
       "      <td>...</td>\n",
       "      <td>0</td>\n",
       "      <td>0</td>\n",
       "      <td>0</td>\n",
       "      <td>0</td>\n",
       "      <td>0</td>\n",
       "      <td>0</td>\n",
       "      <td>0</td>\n",
       "      <td>0</td>\n",
       "      <td>0</td>\n",
       "      <td>0</td>\n",
       "    </tr>\n",
       "    <tr>\n",
       "      <th>2</th>\n",
       "      <td>1</td>\n",
       "      <td>0</td>\n",
       "      <td>0</td>\n",
       "      <td>0</td>\n",
       "      <td>0</td>\n",
       "      <td>0</td>\n",
       "      <td>0</td>\n",
       "      <td>0</td>\n",
       "      <td>0</td>\n",
       "      <td>0</td>\n",
       "      <td>...</td>\n",
       "      <td>0</td>\n",
       "      <td>0</td>\n",
       "      <td>0</td>\n",
       "      <td>0</td>\n",
       "      <td>0</td>\n",
       "      <td>0</td>\n",
       "      <td>0</td>\n",
       "      <td>0</td>\n",
       "      <td>0</td>\n",
       "      <td>0</td>\n",
       "    </tr>\n",
       "    <tr>\n",
       "      <th>3</th>\n",
       "      <td>4</td>\n",
       "      <td>0</td>\n",
       "      <td>0</td>\n",
       "      <td>0</td>\n",
       "      <td>0</td>\n",
       "      <td>0</td>\n",
       "      <td>0</td>\n",
       "      <td>0</td>\n",
       "      <td>0</td>\n",
       "      <td>0</td>\n",
       "      <td>...</td>\n",
       "      <td>0</td>\n",
       "      <td>0</td>\n",
       "      <td>0</td>\n",
       "      <td>0</td>\n",
       "      <td>0</td>\n",
       "      <td>0</td>\n",
       "      <td>0</td>\n",
       "      <td>0</td>\n",
       "      <td>0</td>\n",
       "      <td>0</td>\n",
       "    </tr>\n",
       "    <tr>\n",
       "      <th>4</th>\n",
       "      <td>0</td>\n",
       "      <td>0</td>\n",
       "      <td>0</td>\n",
       "      <td>0</td>\n",
       "      <td>0</td>\n",
       "      <td>0</td>\n",
       "      <td>0</td>\n",
       "      <td>0</td>\n",
       "      <td>0</td>\n",
       "      <td>0</td>\n",
       "      <td>...</td>\n",
       "      <td>0</td>\n",
       "      <td>0</td>\n",
       "      <td>0</td>\n",
       "      <td>0</td>\n",
       "      <td>0</td>\n",
       "      <td>0</td>\n",
       "      <td>0</td>\n",
       "      <td>0</td>\n",
       "      <td>0</td>\n",
       "      <td>0</td>\n",
       "    </tr>\n",
       "  </tbody>\n",
       "</table>\n",
       "<p>5 rows × 785 columns</p>\n",
       "</div>"
      ],
      "text/plain": [
       "   label  pixel0  pixel1  pixel2  pixel3  pixel4  pixel5  pixel6  pixel7  \\\n",
       "0      1       0       0       0       0       0       0       0       0   \n",
       "1      0       0       0       0       0       0       0       0       0   \n",
       "2      1       0       0       0       0       0       0       0       0   \n",
       "3      4       0       0       0       0       0       0       0       0   \n",
       "4      0       0       0       0       0       0       0       0       0   \n",
       "\n",
       "   pixel8    ...     pixel774  pixel775  pixel776  pixel777  pixel778  \\\n",
       "0       0    ...            0         0         0         0         0   \n",
       "1       0    ...            0         0         0         0         0   \n",
       "2       0    ...            0         0         0         0         0   \n",
       "3       0    ...            0         0         0         0         0   \n",
       "4       0    ...            0         0         0         0         0   \n",
       "\n",
       "   pixel779  pixel780  pixel781  pixel782  pixel783  \n",
       "0         0         0         0         0         0  \n",
       "1         0         0         0         0         0  \n",
       "2         0         0         0         0         0  \n",
       "3         0         0         0         0         0  \n",
       "4         0         0         0         0         0  \n",
       "\n",
       "[5 rows x 785 columns]"
      ]
     },
     "execution_count": 3,
     "metadata": {},
     "output_type": "execute_result"
    }
   ],
   "source": [
    "tmp_df = df_train\n",
    "print(len(tmp_df))\n",
    "tmp_df.head()"
   ]
  },
  {
   "cell_type": "code",
   "execution_count": 4,
   "metadata": {
    "collapsed": false,
    "scrolled": true
   },
   "outputs": [],
   "source": [
    "x_train = np.array(tmp_df.ix[:,1:785])\n",
    "y_train = np.array(tmp_df.ix[:,0])"
   ]
  },
  {
   "cell_type": "code",
   "execution_count": 5,
   "metadata": {
    "collapsed": false,
    "scrolled": true
   },
   "outputs": [
    {
     "name": "stderr",
     "output_type": "stream",
     "text": [
      "Using TensorFlow backend.\n"
     ]
    }
   ],
   "source": [
    "import keras"
   ]
  },
  {
   "cell_type": "code",
   "execution_count": 6,
   "metadata": {
    "collapsed": true,
    "scrolled": true
   },
   "outputs": [],
   "source": [
    "y_labels = keras.utils.to_categorical(y_train, num_classes=10)"
   ]
  },
  {
   "cell_type": "markdown",
   "metadata": {},
   "source": [
    "## Call the sequential model"
   ]
  },
  {
   "cell_type": "code",
   "execution_count": 7,
   "metadata": {
    "collapsed": false,
    "scrolled": true
   },
   "outputs": [],
   "source": [
    "from keras.models import Sequential"
   ]
  },
  {
   "cell_type": "code",
   "execution_count": 8,
   "metadata": {
    "collapsed": true,
    "scrolled": true
   },
   "outputs": [],
   "source": [
    "model = Sequential()"
   ]
  },
  {
   "cell_type": "markdown",
   "metadata": {},
   "source": [
    "## Stacking layers\n",
    "\n",
    "The layers can be stacked using *add* function"
   ]
  },
  {
   "cell_type": "code",
   "execution_count": 9,
   "metadata": {
    "collapsed": true,
    "scrolled": true
   },
   "outputs": [],
   "source": [
    "# call cnn layers\n",
    "from keras.layers import Dense, Activation"
   ]
  },
  {
   "cell_type": "code",
   "execution_count": 10,
   "metadata": {
    "collapsed": false,
    "scrolled": true
   },
   "outputs": [],
   "source": [
    "def init_model():\n",
    "    model.add(Dense(units=10, input_dim=784))\n",
    "    model.add(Activation('relu'))\n",
    "    model.add(Dense(units=10))\n",
    "\n",
    "    model.add(Activation('softmax'))\n",
    "\n",
    "    model.compile(loss='categorical_crossentropy',\n",
    "                  optimizer='rmsprop',\n",
    "                  metrics=['accuracy'])\n",
    "    \n",
    "    return model"
   ]
  },
  {
   "cell_type": "code",
   "execution_count": 1,
   "metadata": {
    "collapsed": true
   },
   "outputs": [],
   "source": [
    "def baseline_model():\n",
    "# create model\n",
    "    model = Sequential()\n",
    "    model.add(Conv2D(32, (5, 5), input_shape=(1, 28, 28), activation='relu'))\n",
    "    model.add(MaxPooling2D(pool_size=(2, 2)))\n",
    "    model.add(Dropout(0.2))\n",
    "    model.add(Flatten())\n",
    "    model.add(Dense(128, activation='relu'))\n",
    "    model.add(Dense(num_classes, activation='softmax'))\n",
    "    # Compile model\n",
    "    model.compile(loss='categorical_crossentropy', optimizer='adam', metrics=['accuracy'])\n",
    "    return model"
   ]
  },
  {
   "cell_type": "code",
   "execution_count": 12,
   "metadata": {
    "collapsed": false,
    "scrolled": true
   },
   "outputs": [
    {
     "name": "stdout",
     "output_type": "stream",
     "text": [
      "Train on 33600 samples, validate on 8400 samples\n",
      "Epoch 1/30\n",
      "33600/33600 [==============================] - 3s - loss: 2.3301 - acc: 0.1847 - val_loss: 2.0580 - val_acc: 0.2299\n",
      "Epoch 2/30\n",
      "33600/33600 [==============================] - 2s - loss: 1.9307 - acc: 0.3159 - val_loss: 1.6868 - val_acc: 0.3886\n",
      "Epoch 3/30\n",
      "33600/33600 [==============================] - 2s - loss: 1.6815 - acc: 0.4063 - val_loss: 1.6495 - val_acc: 0.4373\n",
      "Epoch 4/30\n",
      "33600/33600 [==============================] - 2s - loss: 1.5182 - acc: 0.4656 - val_loss: 1.5153 - val_acc: 0.4849\n",
      "Epoch 5/30\n",
      "33600/33600 [==============================] - 2s - loss: 1.4737 - acc: 0.4844 - val_loss: 1.4640 - val_acc: 0.4931\n",
      "Epoch 6/30\n",
      "33600/33600 [==============================] - 2s - loss: 1.4702 - acc: 0.4872 - val_loss: 1.4671 - val_acc: 0.5076\n",
      "Epoch 7/30\n",
      "33600/33600 [==============================] - 2s - loss: 1.4741 - acc: 0.4823 - val_loss: 1.5114 - val_acc: 0.4824\n",
      "Epoch 8/30\n",
      "33600/33600 [==============================] - 2s - loss: 1.4956 - acc: 0.4847 - val_loss: 1.5720 - val_acc: 0.4917\n",
      "Epoch 9/30\n",
      "33600/33600 [==============================] - 2s - loss: 1.4932 - acc: 0.4745 - val_loss: 1.4935 - val_acc: 0.4801\n",
      "Epoch 10/30\n",
      "33600/33600 [==============================] - 2s - loss: 1.5087 - acc: 0.4800 - val_loss: 1.5885 - val_acc: 0.4929\n",
      "Epoch 11/30\n",
      "33600/33600 [==============================] - 3s - loss: 1.5281 - acc: 0.4774 - val_loss: 1.5311 - val_acc: 0.4710\n",
      "Epoch 12/30\n",
      "33600/33600 [==============================] - 3s - loss: 1.5075 - acc: 0.4810 - val_loss: 1.4774 - val_acc: 0.4723\n",
      "Epoch 13/30\n",
      "33600/33600 [==============================] - 2s - loss: 1.5412 - acc: 0.4883 - val_loss: 1.5596 - val_acc: 0.4838\n",
      "Epoch 14/30\n",
      "33600/33600 [==============================] - 2s - loss: 1.5436 - acc: 0.4831 - val_loss: 1.5440 - val_acc: 0.4813\n",
      "Epoch 15/30\n",
      "33600/33600 [==============================] - 3s - loss: 1.5525 - acc: 0.4839 - val_loss: 1.5408 - val_acc: 0.4821\n",
      "Epoch 16/30\n",
      "33600/33600 [==============================] - 2s - loss: 1.5601 - acc: 0.4798 - val_loss: 1.5642 - val_acc: 0.4780\n",
      "Epoch 17/30\n",
      "33600/33600 [==============================] - 3s - loss: 1.5761 - acc: 0.4784 - val_loss: 1.5766 - val_acc: 0.4626\n",
      "Epoch 18/30\n",
      "33600/33600 [==============================] - 3s - loss: 1.5639 - acc: 0.4812 - val_loss: 1.6190 - val_acc: 0.4805\n",
      "Epoch 19/30\n",
      "33600/33600 [==============================] - 2s - loss: 1.5867 - acc: 0.4773 - val_loss: 1.5806 - val_acc: 0.4771\n",
      "Epoch 20/30\n",
      "33600/33600 [==============================] - 2s - loss: 1.5779 - acc: 0.4788 - val_loss: 1.5672 - val_acc: 0.4682\n",
      "Epoch 21/30\n",
      "33600/33600 [==============================] - 2s - loss: 1.5767 - acc: 0.4765 - val_loss: 1.7102 - val_acc: 0.4792\n",
      "Epoch 22/30\n",
      "33600/33600 [==============================] - 2s - loss: 1.6346 - acc: 0.4838 - val_loss: 1.6062 - val_acc: 0.4860\n",
      "Epoch 23/30\n",
      "33600/33600 [==============================] - 2s - loss: 1.6073 - acc: 0.4789 - val_loss: 1.6613 - val_acc: 0.4901\n",
      "Epoch 24/30\n",
      "33600/33600 [==============================] - 3s - loss: 1.6103 - acc: 0.4838 - val_loss: 1.5904 - val_acc: 0.4811\n",
      "Epoch 25/30\n",
      "33600/33600 [==============================] - 3s - loss: 1.6387 - acc: 0.4852 - val_loss: 1.7151 - val_acc: 0.4875\n",
      "Epoch 26/30\n",
      "33600/33600 [==============================] - 3s - loss: 1.6227 - acc: 0.4798 - val_loss: 1.6064 - val_acc: 0.4800\n",
      "Epoch 27/30\n",
      "33600/33600 [==============================] - 3s - loss: 1.6344 - acc: 0.4781 - val_loss: 1.6333 - val_acc: 0.4717\n",
      "Epoch 28/30\n",
      "33600/33600 [==============================] - 3s - loss: 1.6180 - acc: 0.4805 - val_loss: 1.7596 - val_acc: 0.4921\n",
      "Epoch 29/30\n",
      "33600/33600 [==============================] - 4s - loss: 1.6437 - acc: 0.4844 - val_loss: 1.8017 - val_acc: 0.4948\n",
      "Epoch 30/30\n",
      "33600/33600 [==============================] - 4s - loss: 1.6440 - acc: 0.4843 - val_loss: 1.7950 - val_acc: 0.4879\n"
     ]
    },
    {
     "data": {
      "text/plain": [
       "<keras.callbacks.History at 0x2425e010e80>"
      ]
     },
     "execution_count": 12,
     "metadata": {},
     "output_type": "execute_result"
    }
   ],
   "source": [
    "# learn dl model\n",
    "model.fit(x_train, y_labels, epochs=30, batch_size=32, validation_split=0.2)"
   ]
  },
  {
   "cell_type": "code",
   "execution_count": 13,
   "metadata": {
    "collapsed": false,
    "scrolled": true
   },
   "outputs": [],
   "source": [
    "from keras.utils import plot_model\n",
    "# plot_model(model, to_file='F:/mnist/data/model.png')"
   ]
  },
  {
   "cell_type": "markdown",
   "metadata": {
    "collapsed": false,
    "scrolled": true
   },
   "source": [
    "## Prediction test data"
   ]
  },
  {
   "cell_type": "code",
   "execution_count": 16,
   "metadata": {
    "collapsed": true
   },
   "outputs": [],
   "source": [
    "df_test = pd.read_csv('F:/mnist/data/test.csv')"
   ]
  },
  {
   "cell_type": "code",
   "execution_count": 19,
   "metadata": {
    "collapsed": false
   },
   "outputs": [],
   "source": [
    "x_test = np.array(df_test)"
   ]
  },
  {
   "cell_type": "code",
   "execution_count": 47,
   "metadata": {
    "collapsed": false
   },
   "outputs": [],
   "source": [
    "# this method will take model and numpy array data\n",
    "def get_submission_df(model, data):\n",
    "    np_prediction = model.predict_classes(data)\n",
    "    \n",
    "    df_submission = pd.DataFrame()\n",
    "    df_submission['ImageId'] = list(range(1,len(np_prediction)+1))\n",
    "    df_submission['Label'] = np_prediction\n",
    "    \n",
    "    return df_submission"
   ]
  },
  {
   "cell_type": "code",
   "execution_count": 48,
   "metadata": {
    "collapsed": false
   },
   "outputs": [
    {
     "name": "stdout",
     "output_type": "stream",
     "text": [
      "26304/28000 [===========================>..] - ETA: 0s"
     ]
    }
   ],
   "source": [
    "df_submission = get_submission_df(model, x_test)"
   ]
  },
  {
   "cell_type": "code",
   "execution_count": 49,
   "metadata": {
    "collapsed": true
   },
   "outputs": [],
   "source": [
    "df_submission.to_csv('F:/mnist/data/submission.csv', index=False)"
   ]
  },
  {
   "cell_type": "code",
   "execution_count": null,
   "metadata": {
    "collapsed": true
   },
   "outputs": [],
   "source": []
  }
 ],
 "metadata": {
  "anaconda-cloud": {},
  "kernelspec": {
   "display_name": "Python [conda root]",
   "language": "python",
   "name": "conda-root-py"
  },
  "language_info": {
   "codemirror_mode": {
    "name": "ipython",
    "version": 3
   },
   "file_extension": ".py",
   "mimetype": "text/x-python",
   "name": "python",
   "nbconvert_exporter": "python",
   "pygments_lexer": "ipython3",
   "version": "3.5.2"
  }
 },
 "nbformat": 4,
 "nbformat_minor": 1
}
